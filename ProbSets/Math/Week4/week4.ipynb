{
 "cells": [
  {
   "cell_type": "markdown",
   "metadata": {},
   "source": [
    "# Homework \\#4\n",
    "***\n",
    "\n",
    "Tom Curran \n",
    "\n",
    "July 15, 2018\n",
    "\n",
    "OSM Bootcamp 2018\n",
    "\n",
    "***"
   ]
  },
  {
   "cell_type": "code",
   "execution_count": 4,
   "metadata": {},
   "outputs": [],
   "source": [
    "import sympy as s\n",
    "import pandas as pd\n",
    "import numpy as np\n",
    "import numpy.linalg as la"
   ]
  },
  {
   "cell_type": "markdown",
   "metadata": {},
   "source": [
    "# 6.6"
   ]
  },
  {
   "cell_type": "code",
   "execution_count": 5,
   "metadata": {},
   "outputs": [],
   "source": [
    "x,y = s.symbols('x y')\n",
    "\n",
    "fn = 3*y*x**2 + 4*x*y**2 + x*y\n",
    "\n",
    "foc_x = s.diff(fn,x)\n",
    "\n",
    "foc_y = s.diff(fn,y)"
   ]
  },
  {
   "cell_type": "markdown",
   "metadata": {},
   "source": [
    "First order Conditions of X and Y\n",
    "\n",
    "$Df(x) = 6xy + 4y^2 + y$ \n",
    "\n",
    "$Df(y) = 3x^2 + 8xy + x$ "
   ]
  },
  {
   "cell_type": "markdown",
   "metadata": {},
   "source": [
    "critical point: (0,0)\n",
    "***\n",
    "\n",
    "$\\text{if }y = 0, 0 = 3x^2 + 8x(0)+x \\Rightarrow 3x^2 +x = 0 \\Rightarrow x(3x + 1) = 0 \\Rightarrow 3x + 1 =0 \\Rightarrow x = \\frac{1}{3}$\n",
    "\n",
    "critical point: ($\\frac{1}{3}$, 0)\n",
    "\n",
    "***\n",
    "\n",
    "$0 = 6xy + 4y^2 + y \\Rightarrow y(6x + 4y + 1) \\Rightarrow 6x + 4y + 1$\n",
    "\n",
    "$x = \\frac{4y + 1}{6}$\n",
    "\n",
    "$0 = 3(\\frac{-4y - 1}{6})^2 + 8y(\\frac{-4y - 1}{6}) + \\frac{-4y - 1}{6}$\n",
    "\n",
    "$y = \\frac{-1}{4} \\ or \\ \\frac{-1}{12}$\n",
    "\n",
    "\\begin{equation}\n",
    "x=\n",
    "\\begin{cases}\n",
    "    0 \\ \\text{if} \\ y = \\frac{-1}{4}\\\\\n",
    "    \\frac{-1}{9} \\ \\text{if} \\ y = \\frac{-1}{12}\\\\\n",
    "\\end{cases}\n",
    "\\end{equation}\n",
    "\n",
    "critical points:\n",
    "* (0,0)\n",
    "* ($\\frac{1}{3}$,0)\n",
    "* ($\\frac{-1}{9}$,$\\frac{-1}{12}$)\n",
    "* (0, $\\frac{-1}{4}$)\n"
   ]
  },
  {
   "cell_type": "code",
   "execution_count": 6,
   "metadata": {},
   "outputs": [
    {
     "name": "stdout",
     "output_type": "stream",
     "text": [
      "[[ 0.          0.        ]\n",
      " [ 0.33333333  0.        ]\n",
      " [-0.11111111 -0.08333333]\n",
      " [ 0.         -0.25      ]]\n"
     ]
    }
   ],
   "source": [
    "#turn critical points into a 2d array for storage\n",
    "critical_vals = np.array([[0,0],[1/3,0],[-1/9, -1/12], [0,-1/4]])\n",
    "print(critical_vals)"
   ]
  },
  {
   "cell_type": "code",
   "execution_count": 7,
   "metadata": {},
   "outputs": [],
   "source": [
    "def hessian_vals(vals):\n",
    "    '''\n",
    "    Takes the 2d array of critical points (1 at a time) and runs them through the hessian matrix\n",
    "    '''\n",
    "    x,y = vals\n",
    "    matrix = np.zeros([2,2])\n",
    "    matrix[0][0] = 6 * y\n",
    "    matrix[0][1] = 6*x + 8*y + 1\n",
    "    matrix[1][0] = 6*x + 8*y + 1\n",
    "    matrix[1][1] = 8*x\n",
    "    print(matrix)\n",
    "    \n",
    "    determinants = la.det(matrix)\n",
    "    print(\"determinants:\", determinants)\n",
    "    print(\"\")"
   ]
  },
  {
   "cell_type": "code",
   "execution_count": 8,
   "metadata": {},
   "outputs": [
    {
     "name": "stdout",
     "output_type": "stream",
     "text": [
      "Critical Value Pair: 1\n",
      "[[0. 1.]\n",
      " [1. 0.]]\n",
      "determinants: -1.0\n",
      "\n",
      "Critical Value Pair: 2\n",
      "[[0.         3.        ]\n",
      " [3.         2.66666667]]\n",
      "determinants: -9.000000000000002\n",
      "\n",
      "Critical Value Pair: 3\n",
      "[[-0.5        -0.33333333]\n",
      " [-0.33333333 -0.88888889]]\n",
      "determinants: 0.33333333333333337\n",
      "\n",
      "Critical Value Pair: 4\n",
      "[[-1.5 -1. ]\n",
      " [-1.   0. ]]\n",
      "determinants: -1.0\n",
      "\n"
     ]
    }
   ],
   "source": [
    "for i in range(len(critical_vals)):\n",
    "    print(\"Critical Value Pair: {}\".format(i+1))\n",
    "    hessian_vals(critical_vals[i])"
   ]
  },
  {
   "cell_type": "code",
   "execution_count": 9,
   "metadata": {},
   "outputs": [
    {
     "name": "stdout",
     "output_type": "stream",
     "text": [
      "Matrix([[6*y, 6*x + 8*y + 1], [6*x + 8*y + 1, 8*x]])\n"
     ]
    }
   ],
   "source": [
    "hessian = s.hessian(fn, [x,y])\n",
    "print(hessian)"
   ]
  },
  {
   "cell_type": "markdown",
   "metadata": {},
   "source": [
    "\\begin{equation}\n",
    "   Hf(x,y) = \\begin{bmatrix}\n",
    "    6y & 6x + 8y + 1 \\\\\n",
    "    6x + 8y + 1 & 8x \\\\\n",
    "    \\end{bmatrix}\n",
    "\\end{equation}\n",
    "\n",
    "\\begin{equation}\n",
    "   Hf(0,0) = \\begin{bmatrix}\n",
    "    0 & 1 \\\\\n",
    "    1 & 0 \\\\\n",
    "    \\end{bmatrix}\n",
    "\\end{equation}\n",
    "\n",
    "\\begin{equation}\n",
    "   Hf(\\frac{1}{3},0) = \\begin{bmatrix}\n",
    "    0 & 3 \\\\\n",
    "    3 & 2\\frac{2}{3} \\\\\n",
    "    \\end{bmatrix}\n",
    "\\end{equation}\n",
    "\n",
    "\n",
    "\\begin{equation}\n",
    "   Hf(\\frac{-1}{9},\\frac{-1}{12}) = \\begin{bmatrix}\n",
    "    \\frac{1}{2} & \\frac{-1}{3} \\\\\n",
    "    \\frac{-1}{3} & \\frac{-8 }{9}\\\\\n",
    "    \\end{bmatrix}\n",
    "\\end{equation}\n",
    "\n",
    "\n",
    "\\begin{equation}\n",
    "   Hf(0,\\frac{-1}{4}) = \\begin{bmatrix}\n",
    "    \\frac{-3}{2} & -1 \\\\\n",
    "    -1 & 0 \\\\\n",
    "    \\end{bmatrix}\n",
    "\\end{equation}\n",
    "\n"
   ]
  },
  {
   "cell_type": "markdown",
   "metadata": {},
   "source": [
    "this shows that $(\\frac{-1}{9},\\frac{-1}{12})$ is the max"
   ]
  },
  {
   "cell_type": "markdown",
   "metadata": {},
   "source": [
    "# 6.7"
   ]
  },
  {
   "cell_type": "code",
   "execution_count": 49,
   "metadata": {},
   "outputs": [
    {
     "name": "stdout",
     "output_type": "stream",
     "text": [
      "Shape of Matrix A: (5, 5)\n",
      "Shape of Matrix A transposed: (5, 5)\n",
      "$Q = A + A^T$, has shape:  (5, 5)\n"
     ]
    }
   ],
   "source": [
    "A = np.random.random((5,5))\n",
    "print(\"Shape of Matrix A: {}\".format(A.shape))\n",
    "A_T = A.T\n",
    "print(\"Shape of Matrix A transposed: {}\".format(A_T.shape))\n",
    "Q = A +A.T\n",
    "print(r\"$Q = A + A^T$, has shape: \",Q.shape)"
   ]
  },
  {
   "cell_type": "markdown",
   "metadata": {},
   "source": [
    "Prove that equation 6.17 is equal to 6.18:\n",
    "\n",
    "Equation 6.17:\n",
    "\\begin{equation}\n",
    "f(x) = x^TAx - b^Tx + c \n",
    "\\end{equation}\n",
    "\n",
    "Equation 6.18:\n",
    "\\begin{equation}\n",
    "f(x) = \\frac{1}{2} x^TQx - b^Tx + c\n",
    "\\end{equation}\n",
    "\n",
    "if $x^TQx = 2x^TAx$ than by substituting it into equation 6.18:\n",
    "\n",
    "\\begin{equation}\n",
    "f(x) = \\frac{1}{2}(2x^TAx) - b^Tx+c\n",
    "\\end{equation}\n",
    "\n",
    "the result is equation 6.17"
   ]
  },
  {
   "cell_type": "code",
   "execution_count": 50,
   "metadata": {},
   "outputs": [
    {
     "name": "stdout",
     "output_type": "stream",
     "text": [
      "2*A*x - b\n"
     ]
    }
   ],
   "source": [
    "x,A,b,c = s.symbols('x A b c')\n",
    "\n",
    "fn = x * A * x - b *x + c\n",
    "\n",
    "foc = s.diff(fn,x)\n",
    "print(foc)"
   ]
  },
  {
   "cell_type": "markdown",
   "metadata": {},
   "source": [
    "\\begin{equation}\n",
    "2A^Tx - b^T = 0 \\\\ \n",
    "2A^Tx = b^T\n",
    "\\end{equation}\n",
    "\n",
    "and since we showed that $2A^Tx = x^tQx$ we can subtitute in that value to get\n",
    "\n",
    "\\begin{equation}\n",
    "x^TQx = b^T\n",
    "\\end{equation}"
   ]
  },
  {
   "cell_type": "markdown",
   "metadata": {},
   "source": [
    "iii."
   ]
  },
  {
   "cell_type": "markdown",
   "metadata": {},
   "source": [
    "# 6.11"
   ]
  },
  {
   "cell_type": "markdown",
   "metadata": {},
   "source": [
    "\\begin{equation}\n",
    "q(x) = ax^2 +bx+ c \\\\ \n",
    "q(x) := f(x_0) + f^\\prime(x_0)(x-x_0) + \\frac{1}{2} f^{\\prime\\prime}(x_0)(x-x_0)^2\n",
    "\\end{equation}\n",
    "\n",
    "\n",
    "we let $x_1$ satisfy $0 = q^\\prime(x_1)$\n",
    "\n",
    "\\begin{equation}\n",
    "x_1 = x_0 - \\frac{f^\\prime(x_0)}{f^{\\prime\\prime}(x_0)}\n",
    "\\end{equation}\n",
    "\n"
   ]
  },
  {
   "cell_type": "code",
   "execution_count": 51,
   "metadata": {},
   "outputs": [
    {
     "name": "stdout",
     "output_type": "stream",
     "text": [
      "2*a*x + b\n",
      "2*a\n"
     ]
    }
   ],
   "source": [
    "x,a,b,c = s.symbols('x a b c')\n",
    "q_fn = a*x**2 + b*x + c\n",
    "foc = s.diff(q_fn, x)\n",
    "soc = s.diff(foc, x)\n",
    "print(foc)\n",
    "print(soc)"
   ]
  },
  {
   "cell_type": "markdown",
   "metadata": {},
   "source": [
    "\\begin{equation}\n",
    "2ax_0 + b = 0 \\\\ \n",
    "2ax_0 = -b\n",
    "\\end{equation}\n",
    "\n",
    "\\begin{equation}\n",
    "x_1 = x_0 - \\frac{2ax_0 + b}{2a} \\\\\n",
    "x_1 = x_0 - \\frac{2ax_0}{2a} + \\frac{b}{2a} \\\\\n",
    "x_1 = x_0 - x_0 + \\frac{b}{2a} \\\\\n",
    "x_1 = \\frac{b}{2a}\\\\\n",
    "\\text{and } f^{\\prime\\prime} = 2a > 0\n",
    "\\end{equation}\n",
    "\n",
    "\n",
    "\n"
   ]
  },
  {
   "cell_type": "markdown",
   "metadata": {},
   "source": [
    "# 6.15\n",
    "\n",
    "Create secant method minimizer function\n",
    "\n",
    "function should accept \n",
    "\n",
    "1. two initial guesses $x_0$ and $x_1$\n",
    "2. level of accuracy $\\epsilon$\n",
    "3. a callable function $f^{\\prime}(x_0)$\n",
    "\n"
   ]
  },
  {
   "cell_type": "code",
   "execution_count": 52,
   "metadata": {},
   "outputs": [],
   "source": [
    "def secant(x0,x1,fn):\n",
    "    \n",
    "    x,y = s.symbols('x y')\n",
    "    \n",
    "    #find the first derivitive of the function (fn)\n",
    "    foc = s.diff(fn, x)\n",
    "    \n",
    "    #f'' = ((f'(xk) - f'(x{k-1}))/xk - x{k-1})\n",
    "    "
   ]
  },
  {
   "cell_type": "markdown",
   "metadata": {},
   "source": []
  },
  {
   "cell_type": "code",
   "execution_count": null,
   "metadata": {},
   "outputs": [],
   "source": []
  }
 ],
 "metadata": {
  "kernelspec": {
   "display_name": "Python 3",
   "language": "python",
   "name": "python3"
  },
  "language_info": {
   "codemirror_mode": {
    "name": "ipython",
    "version": 3
   },
   "file_extension": ".py",
   "mimetype": "text/x-python",
   "name": "python",
   "nbconvert_exporter": "python",
   "pygments_lexer": "ipython3",
   "version": "3.6.5"
  }
 },
 "nbformat": 4,
 "nbformat_minor": 2
}
