{
 "cells": [
  {
   "cell_type": "code",
   "execution_count": 216,
   "metadata": {},
   "outputs": [],
   "source": [
    "__author__ = \"Tom Curran\"\n",
    "\n",
    "import pandas as pd\n",
    "import numpy as np\n",
    "from scipy.linalg import norm\n",
    "import scipy.linalg as la\n",
    "import matplotlib.pyplot as plt\n"
   ]
  },
  {
   "cell_type": "markdown",
   "metadata": {},
   "source": [
    "# Problem 1"
   ]
  },
  {
   "cell_type": "code",
   "execution_count": 21,
   "metadata": {},
   "outputs": [],
   "source": [
    "A = np.random.random((6,4))\n",
    "Q,R = la.qr(A, mode = 'economic')\n",
    "\n",
    "# Verify that R is upper triangular, Q is orthonormal, and QR = A.\n",
    "np.allclose(np.triu(R), R)\n",
    "np.allclose(Q.T @ Q, np.identity(4))\n",
    "np.allclose(Q @ R, A)\n",
    "\n",
    "\n",
    "def modified_gramschmidt(A):\n",
    "    m, n = np.shape(A)\n",
    "\n",
    "    q = np.copy(A)\n",
    "    r = np.zeros((n,n))\n",
    "\n",
    "    for i in range(0,n):\n",
    "        r[i,i] = la.norm(q[:,i])\n",
    "        q[:,i] = q[:,i] / r[i,i]\n",
    "        for j in range(i+1,n):\n",
    "            r[i,j] = q[:,j] @q[:,i]\n",
    "            q[:,j] = q[:,j] - ( r[i,j] * q[:,i])\n",
    "\n",
    "    return(q,r)"
   ]
  },
  {
   "cell_type": "code",
   "execution_count": 23,
   "metadata": {},
   "outputs": [
    {
     "name": "stdout",
     "output_type": "stream",
     "text": [
      "True\n",
      "True\n",
      "True\n"
     ]
    }
   ],
   "source": [
    "A2 = np.random.random((4,4))\n",
    "q1, r1 = modified_gramschmidt(A2)\n",
    "print(np.allclose(np.triu(r1), r1))\n",
    "print(np.allclose(q1.T @ q1, np.identity(4)))\n",
    "print(np.allclose(q1 @ r1, A2))"
   ]
  },
  {
   "cell_type": "markdown",
   "metadata": {},
   "source": [
    "# Problem 2"
   ]
  },
  {
   "cell_type": "markdown",
   "metadata": {},
   "source": [
    "Write a function that accepts an invertible matrix A. Use the QR decomposition of A and (3.1) to calculate |det(A)|. You may use your QR decomposition algorithm from Problem 1 or SciPy’s QR routine. Can you implement this function in a single line?\n",
    "(Hint: np.diag() and np.prod() may be useful.)\n",
    "Check your answer against la.det(), which calculates the determinant."
   ]
  },
  {
   "cell_type": "code",
   "execution_count": 33,
   "metadata": {},
   "outputs": [],
   "source": [
    "def detQR(A):\n",
    "    return(np.prod(np.diag(la.qr(A)[1])))"
   ]
  },
  {
   "cell_type": "code",
   "execution_count": 37,
   "metadata": {},
   "outputs": [
    {
     "name": "stdout",
     "output_type": "stream",
     "text": [
      "Error:  0.20055815590128034\n"
     ]
    }
   ],
   "source": [
    "print(\"Error: \",la.det(A)-detQR(A))"
   ]
  },
  {
   "cell_type": "markdown",
   "metadata": {},
   "source": [
    "# Problem 3"
   ]
  },
  {
   "cell_type": "markdown",
   "metadata": {},
   "source": [
    "Problem 3. Write a function that accepts an invertible n ⇥ n matrix A and a vector b of length n. Use the QR decomposition to solve Ax = b in the following steps:\n",
    "1. Compute Q and R.\n",
    "2. Calculate y = QTb.\n",
    "3. Use back substitution to solve Rx = y for x."
   ]
  },
  {
   "cell_type": "code",
   "execution_count": 68,
   "metadata": {},
   "outputs": [],
   "source": [
    "def lin_system(A, b):\n",
    "    print(A)\n",
    "    print(b)\n",
    "    q, r = la.qr(A)\n",
    "    \n",
    "    m, n = A.shape\n",
    "    \n",
    "    y = q.T @ b\n",
    "    \n",
    "    x = np.zeros([len(b)])\n",
    "  \n",
    "    \n",
    "    for i in range(n-1,-1,-1):\n",
    "        #print(\"X at point {}\".format(i))\n",
    "        \n",
    "        x[i] = b[i]/A[i,i]\n",
    "        \n",
    "        for j in range(0, i):\n",
    "            b[j] = b[j] - (A[j,i] * x[i])\n",
    "            \n",
    "    return(print(\"Back Subsitution: {}\".format(x)))\n",
    "    "
   ]
  },
  {
   "cell_type": "code",
   "execution_count": 69,
   "metadata": {},
   "outputs": [
    {
     "name": "stdout",
     "output_type": "stream",
     "text": [
      "[[0.3383647  0.25772245 0.33049093 0.96307184]\n",
      " [0.97278626 0.50297536 0.29284887 0.24994275]\n",
      " [0.50444192 0.88808074 0.21459504 0.22144405]\n",
      " [0.03982702 0.65078908 0.42162724 0.13699583]]\n",
      "[1 2 3 4]\n",
      "Back Subsitution: [-65.01860181   0.         -13.97981965  29.19796909]\n",
      "None\n"
     ]
    }
   ],
   "source": [
    "b = np.array([1,2,3,4])\n",
    "A3 = np.random.random((4,4))\n",
    "p3 = lin_system(A3, b)\n",
    "print(p3)"
   ]
  },
  {
   "cell_type": "markdown",
   "metadata": {},
   "source": [
    "# Problem 4"
   ]
  },
  {
   "cell_type": "code",
   "execution_count": 80,
   "metadata": {},
   "outputs": [
    {
     "name": "stdout",
     "output_type": "stream",
     "text": [
      "(5, 3) (5, 5) (5, 3)\n",
      "True\n"
     ]
    }
   ],
   "source": [
    "A = np.random.random((5,3))\n",
    "\n",
    "Q,R = la.qr(A)\n",
    "\n",
    "print(A.shape, Q.shape, R.shape)\n",
    "\n",
    "print(np.allclose(Q @ R, A))"
   ]
  },
  {
   "cell_type": "code",
   "execution_count": 119,
   "metadata": {},
   "outputs": [],
   "source": [
    "def householder(A):\n",
    "    m,n = A.shape\n",
    "    \n",
    "    R = A.copy()\n",
    "    \n",
    "    Q = np.identity(m)\n",
    "    \n",
    "    sign = lambda x: 1 if x >= 0 else -1\n",
    "    \n",
    "    for k in range(0, n):\n",
    "        u = np.copy(R[k:,k])\n",
    "        u[0] = u[0] + np.sign(u[0]) * la.norm(u)\n",
    "        u = u / la.norm(u)\n",
    "        \n",
    "        R[k:, k:] = R[k:, k:] - 2*np.outer(u, (u.T @ R[k:, k:]))\n",
    "        Q[k:, :]  = Q[k:, :] - 2*np.outer(u, (u.T @ Q[k:, :]))\n",
    "        \n",
    "    return Q.T, R"
   ]
  },
  {
   "cell_type": "code",
   "execution_count": 120,
   "metadata": {},
   "outputs": [],
   "source": [
    "A = np.random.random((6,4))"
   ]
  },
  {
   "cell_type": "code",
   "execution_count": 121,
   "metadata": {},
   "outputs": [
    {
     "name": "stdout",
     "output_type": "stream",
     "text": [
      "(6, 4) (6, 6) (6, 4)\n"
     ]
    },
    {
     "data": {
      "text/plain": [
       "True"
      ]
     },
     "execution_count": 121,
     "metadata": {},
     "output_type": "execute_result"
    }
   ],
   "source": [
    "Q_T, R = householder(A)\n",
    "\n",
    "print(A.shape, Q_T.shape, R.shape)\n",
    "np.allclose(Q_T @ R, A)"
   ]
  },
  {
   "cell_type": "markdown",
   "metadata": {},
   "source": [
    "# Problem 5"
   ]
  },
  {
   "cell_type": "code",
   "execution_count": 172,
   "metadata": {},
   "outputs": [],
   "source": [
    "def hessenberg(A):\n",
    "    m, n = A.shape \n",
    "    H = np.copy(A)\n",
    "    Q = np.identity(m)\n",
    "    \n",
    "    for k in range(n-1):\n",
    "        u = np.copy(H[k+1:, k])\n",
    "        \n",
    "        u[0] = u[0] + np.sign(u[0]) * la.norm(u)\n",
    "\n",
    "        u = u / la.norm(u)\n",
    "\n",
    "        H[k+1:, k:] = H[k+1:, k:]  - 2*np.outer(u, (u.T@H[k+1:, k:]))\n",
    "        \n",
    "        H[:, k+1:] = H[:, k+1:] - 2(u.T@(H[:,k+1:]@u))\n",
    "        \n",
    "        Q[k+1:, :] = Q[k+1:, :] - 2*np.outer(u, u.T@Q[k+1:, :])\n",
    "        \n",
    "    return(Q.T, H)\n"
   ]
  },
  {
   "cell_type": "code",
   "execution_count": null,
   "metadata": {},
   "outputs": [],
   "source": [
    "A = np.random.random((8,8))\n",
    "q, h = hessenberg(A)\n",
    "np.allclose(np.triu(H, -1), H)\n",
    "np.allclose(Q @ H @ Q.T, A)"
   ]
  },
  {
   "cell_type": "markdown",
   "metadata": {},
   "source": [
    "# Least Squares and Eigen Values"
   ]
  },
  {
   "cell_type": "markdown",
   "metadata": {},
   "source": [
    "## Problem 1"
   ]
  },
  {
   "cell_type": "markdown",
   "metadata": {},
   "source": [
    "Problem 1. Write a function that accepts an m ⇥ n matrix A of rank n and a vector b of length n. Use the QR decomposition and (4.1) to solve the normal equations corresponding to Ax = b.\n",
    "You may use either SciPy’s QR routine or one of your own QR routines. In addition, you may use la.solve_triangular(), SciPy’s optimized routine for solving triangular systems."
   ]
  },
  {
   "cell_type": "code",
   "execution_count": 227,
   "metadata": {},
   "outputs": [],
   "source": [
    "def leastSquares(A, b):\n",
    "    q,r = modified_gramschmidt(A)\n",
    "    s = np.dot(q.T, b)\n",
    "    t = la.solve_triangular(r,s)\n",
    "    return(t)"
   ]
  },
  {
   "cell_type": "code",
   "execution_count": 228,
   "metadata": {},
   "outputs": [
    {
     "name": "stdout",
     "output_type": "stream",
     "text": [
      "[ 6.54495229 -4.24942385 -4.85458818 -3.88306478  5.29161605]\n"
     ]
    }
   ],
   "source": [
    "A = np.random.random((5,5))\n",
    "b = np.random.random(5)\n",
    "print(leastSquares(A, b))"
   ]
  },
  {
   "cell_type": "markdown",
   "metadata": {},
   "source": [
    "## Problem 2"
   ]
  },
  {
   "cell_type": "markdown",
   "metadata": {},
   "source": [
    "Problem 2. The file housing.npy contains the purchase-only housing price index, a measure of how housing prices are changing, for the United States from 2000 to 2010.a Each row in the array is a separate measurement; the columns are the year and the price index, in that order. To avoid large numerical computations, the year measurements start at 0 instead of 2000.\n",
    "Find the least squares line that relates the year to the housing price index (i.e., let year be the x-axis and index the y-axis).\n",
    "1. Construct the matrix A and the vector b described by (4.2).\n",
    "(Hint: np.vstack(), np.column_stack(), and/or np.ones() may be helpful.)\n",
    "2. Use your function from Problem 1 to find the least squares solution.\n",
    "3. Plot the data points as a scatter plot.\n",
    "4. Plot the least squares line with the scatter plot."
   ]
  },
  {
   "cell_type": "code",
   "execution_count": 229,
   "metadata": {},
   "outputs": [
    {
     "name": "stdout",
     "output_type": "stream",
     "text": [
      "       0       1\n",
      "0    0.0  136.86\n",
      "1    0.5  142.70\n",
      "2    1.0  146.53\n",
      "3    1.5  152.65\n",
      "4    2.0  156.08\n",
      "5    2.5  163.71\n",
      "6    3.0  168.12\n",
      "7    3.5  176.16\n",
      "8    4.0  182.12\n",
      "9    4.5  193.75\n",
      "10   5.0  201.04\n",
      "11   5.5  214.33\n",
      "12   6.0  219.40\n",
      "13   6.5  224.39\n",
      "14   7.0  223.85\n",
      "15   7.5  223.79\n",
      "16   8.0  211.57\n",
      "17   8.5  203.97\n",
      "18   9.0  193.75\n",
      "19   9.5  193.51\n",
      "20  10.0  187.84\n",
      "21  10.5  187.59\n",
      "22  11.0  177.82\n",
      "23  11.5  181.29\n",
      "24  12.0  178.66\n",
      "25  12.5  188.22\n",
      "26  13.0  190.87\n",
      "27  13.5  203.11\n",
      "28  14.0  203.56\n",
      "29  14.5  212.70\n",
      "30  15.0  214.26\n",
      "31  15.5  224.90\n",
      "32  16.0  226.51\n"
     ]
    }
   ],
   "source": [
    "housing = np.load(\"housing.npy\")\n",
    "print(pd.DataFrame(housing))"
   ]
  },
  {
   "cell_type": "code",
   "execution_count": 232,
   "metadata": {},
   "outputs": [
    {
     "data": {
      "text/plain": [
       "array([  3.37476604, 164.08096257])"
      ]
     },
     "execution_count": 232,
     "metadata": {},
     "output_type": "execute_result"
    }
   ],
   "source": [
    "A = np.column_stack((housing[:,0], np.ones(len(housing))))\n",
    "b = housing[:,1]\n",
    "least_sq = leastSquares(A, b)"
   ]
  },
  {
   "cell_type": "code",
   "execution_count": 235,
   "metadata": {},
   "outputs": [
    {
     "data": {
      "text/plain": [
       "Text(0.5,0,'Period')"
      ]
     },
     "execution_count": 235,
     "metadata": {},
     "output_type": "execute_result"
    },
    {
     "data": {
      "image/png": "[encoded data removed]",
      "text/plain": [
       "<Figure size 720x720 with 1 Axes>"
      ]
     },
     "metadata": {},
     "output_type": "display_data"
    }
   ],
   "source": [
    "#plot\n",
    "\n",
    "least_sq_val = A @ least_sq\n",
    "\n",
    "%matplotlib inline\n",
    "plt.figure(figsize = (10,10))\n",
    "plt.scatter(housing[:,0], housing[:,1])\n",
    "plt.plot(housing[:,0],least_sq_val)\n",
    "plt.title(\"Housing 2000 - 2010\")\n",
    "plt.ylabel(\"Price Index\")\n",
    "plt.xlabel(\"Period\")"
   ]
  },
  {
   "cell_type": "markdown",
   "metadata": {},
   "source": [
    "## Problem 3"
   ]
  },
  {
   "cell_type": "code",
   "execution_count": null,
   "metadata": {},
   "outputs": [],
   "source": []
  }
 ],
 "metadata": {
  "kernelspec": {
   "display_name": "Python 3",
   "language": "python",
   "name": "python3"
  },
  "language_info": {
   "codemirror_mode": {
    "name": "ipython",
    "version": 3
   },
   "file_extension": ".py",
   "mimetype": "text/x-python",
   "name": "python",
   "nbconvert_exporter": "python",
   "pygments_lexer": "ipython3",
   "version": "3.6.5"
  }
 },
 "nbformat": 4,
 "nbformat_minor": 2
}
