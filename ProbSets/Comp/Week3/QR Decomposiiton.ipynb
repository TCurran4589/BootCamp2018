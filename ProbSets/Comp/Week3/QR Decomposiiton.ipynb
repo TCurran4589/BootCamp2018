{
 "cells": [
  {
   "cell_type": "code",
   "execution_count": 349,
   "metadata": {},
   "outputs": [],
   "source": [
    "__author__ = \"Tom Curran\"\n",
    "\n",
    "import pandas as pd\n",
    "import numpy as np\n",
    "from scipy.linalg import norm\n",
    "import scipy.linalg as la\n",
    "import matplotlib.pyplot as plt\n",
    "from math import sqrt\n"
   ]
  },
  {
   "cell_type": "markdown",
   "metadata": {},
   "source": [
    "# Problem 1"
   ]
  },
  {
   "cell_type": "code",
   "execution_count": 21,
   "metadata": {},
   "outputs": [],
   "source": [
    "A = np.random.random((6,4))\n",
    "Q,R = la.qr(A, mode = 'economic')\n",
    "\n",
    "# Verify that R is upper triangular, Q is orthonormal, and QR = A.\n",
    "np.allclose(np.triu(R), R)\n",
    "np.allclose(Q.T @ Q, np.identity(4))\n",
    "np.allclose(Q @ R, A)\n",
    "\n",
    "\n",
    "def modified_gramschmidt(A):\n",
    "    m, n = np.shape(A)\n",
    "\n",
    "    q = np.copy(A)\n",
    "    r = np.zeros((n,n))\n",
    "\n",
    "    for i in range(0,n):\n",
    "        r[i,i] = la.norm(q[:,i])\n",
    "        q[:,i] = q[:,i] / r[i,i]\n",
    "        for j in range(i+1,n):\n",
    "            r[i,j] = q[:,j] @q[:,i]\n",
    "            q[:,j] = q[:,j] - ( r[i,j] * q[:,i])\n",
    "\n",
    "    return(q,r)"
   ]
  },
  {
   "cell_type": "code",
   "execution_count": 23,
   "metadata": {},
   "outputs": [
    {
     "name": "stdout",
     "output_type": "stream",
     "text": [
      "True\n",
      "True\n",
      "True\n"
     ]
    }
   ],
   "source": [
    "A2 = np.random.random((4,4))\n",
    "q1, r1 = modified_gramschmidt(A2)\n",
    "print(np.allclose(np.triu(r1), r1))\n",
    "print(np.allclose(q1.T @ q1, np.identity(4)))\n",
    "print(np.allclose(q1 @ r1, A2))"
   ]
  },
  {
   "cell_type": "markdown",
   "metadata": {},
   "source": [
    "# Problem 2"
   ]
  },
  {
   "cell_type": "markdown",
   "metadata": {},
   "source": [
    "Write a function that accepts an invertible matrix A. Use the QR decomposition of A and (3.1) to calculate |det(A)|. You may use your QR decomposition algorithm from Problem 1 or SciPy’s QR routine. Can you implement this function in a single line?\n",
    "(Hint: np.diag() and np.prod() may be useful.)\n",
    "Check your answer against la.det(), which calculates the determinant."
   ]
  },
  {
   "cell_type": "code",
   "execution_count": 33,
   "metadata": {},
   "outputs": [],
   "source": [
    "def detQR(A):\n",
    "    return(np.prod(np.diag(la.qr(A)[1])))"
   ]
  },
  {
   "cell_type": "code",
   "execution_count": 37,
   "metadata": {},
   "outputs": [
    {
     "name": "stdout",
     "output_type": "stream",
     "text": [
      "Error:  0.20055815590128034\n"
     ]
    }
   ],
   "source": [
    "print(\"Error: \",la.det(A)-detQR(A))"
   ]
  },
  {
   "cell_type": "markdown",
   "metadata": {},
   "source": [
    "# Problem 3"
   ]
  },
  {
   "cell_type": "markdown",
   "metadata": {},
   "source": [
    "Problem 3. Write a function that accepts an invertible n ⇥ n matrix A and a vector b of length n. Use the QR decomposition to solve Ax = b in the following steps:\n",
    "1. Compute Q and R.\n",
    "2. Calculate y = QTb.\n",
    "3. Use back substitution to solve Rx = y for x."
   ]
  },
  {
   "cell_type": "code",
   "execution_count": 68,
   "metadata": {},
   "outputs": [],
   "source": [
    "def lin_system(A, b):\n",
    "    print(A)\n",
    "    print(b)\n",
    "    q, r = la.qr(A)\n",
    "    \n",
    "    m, n = A.shape\n",
    "    \n",
    "    y = q.T @ b\n",
    "    \n",
    "    x = np.zeros([len(b)])\n",
    "  \n",
    "    \n",
    "    for i in range(n-1,-1,-1):\n",
    "        #print(\"X at point {}\".format(i))\n",
    "        \n",
    "        x[i] = b[i]/A[i,i]\n",
    "        \n",
    "        for j in range(0, i):\n",
    "            b[j] = b[j] - (A[j,i] * x[i])\n",
    "            \n",
    "    return(print(\"Back Subsitution: {}\".format(x)))\n",
    "    "
   ]
  },
  {
   "cell_type": "code",
   "execution_count": 69,
   "metadata": {},
   "outputs": [
    {
     "name": "stdout",
     "output_type": "stream",
     "text": [
      "[[0.3383647  0.25772245 0.33049093 0.96307184]\n",
      " [0.97278626 0.50297536 0.29284887 0.24994275]\n",
      " [0.50444192 0.88808074 0.21459504 0.22144405]\n",
      " [0.03982702 0.65078908 0.42162724 0.13699583]]\n",
      "[1 2 3 4]\n",
      "Back Subsitution: [-65.01860181   0.         -13.97981965  29.19796909]\n",
      "None\n"
     ]
    }
   ],
   "source": [
    "b = np.array([1,2,3,4])\n",
    "A3 = np.random.random((4,4))\n",
    "p3 = lin_system(A3, b)\n",
    "print(p3)"
   ]
  },
  {
   "cell_type": "markdown",
   "metadata": {},
   "source": [
    "# Problem 4"
   ]
  },
  {
   "cell_type": "code",
   "execution_count": 80,
   "metadata": {},
   "outputs": [
    {
     "name": "stdout",
     "output_type": "stream",
     "text": [
      "(5, 3) (5, 5) (5, 3)\n",
      "True\n"
     ]
    }
   ],
   "source": [
    "A = np.random.random((5,3))\n",
    "\n",
    "Q,R = la.qr(A)\n",
    "\n",
    "print(A.shape, Q.shape, R.shape)\n",
    "\n",
    "print(np.allclose(Q @ R, A))"
   ]
  },
  {
   "cell_type": "code",
   "execution_count": 119,
   "metadata": {},
   "outputs": [],
   "source": [
    "def householder(A):\n",
    "    m,n = A.shape\n",
    "    \n",
    "    R = A.copy()\n",
    "    \n",
    "    Q = np.identity(m)\n",
    "    \n",
    "    sign = lambda x: 1 if x >= 0 else -1\n",
    "    \n",
    "    for k in range(0, n):\n",
    "        u = np.copy(R[k:,k])\n",
    "        u[0] = u[0] + np.sign(u[0]) * la.norm(u)\n",
    "        u = u / la.norm(u)\n",
    "        \n",
    "        R[k:, k:] = R[k:, k:] - 2*np.outer(u, (u.T @ R[k:, k:]))\n",
    "        Q[k:, :]  = Q[k:, :] - 2*np.outer(u, (u.T @ Q[k:, :]))\n",
    "        \n",
    "    return Q.T, R"
   ]
  },
  {
   "cell_type": "code",
   "execution_count": 120,
   "metadata": {},
   "outputs": [],
   "source": [
    "A = np.random.random((6,4))"
   ]
  },
  {
   "cell_type": "code",
   "execution_count": 121,
   "metadata": {},
   "outputs": [
    {
     "name": "stdout",
     "output_type": "stream",
     "text": [
      "(6, 4) (6, 6) (6, 4)\n"
     ]
    },
    {
     "data": {
      "text/plain": [
       "True"
      ]
     },
     "execution_count": 121,
     "metadata": {},
     "output_type": "execute_result"
    }
   ],
   "source": [
    "Q_T, R = householder(A)\n",
    "\n",
    "print(A.shape, Q_T.shape, R.shape)\n",
    "np.allclose(Q_T @ R, A)"
   ]
  },
  {
   "cell_type": "markdown",
   "metadata": {},
   "source": [
    "# Problem 5"
   ]
  },
  {
   "cell_type": "code",
   "execution_count": 172,
   "metadata": {},
   "outputs": [],
   "source": [
    "def hessenberg(A):\n",
    "    m, n = A.shape \n",
    "    H = np.copy(A)\n",
    "    Q = np.identity(m)\n",
    "    \n",
    "    for k in range(n-1):\n",
    "        u = np.copy(H[k+1:, k])\n",
    "        \n",
    "        u[0] = u[0] + np.sign(u[0]) * la.norm(u)\n",
    "\n",
    "        u = u / la.norm(u)\n",
    "\n",
    "        H[k+1:, k:] = H[k+1:, k:]  - 2*np.outer(u, (u.T@H[k+1:, k:]))\n",
    "        \n",
    "        H[:, k+1:] = H[:, k+1:] - 2(u.T@(H[:,k+1:]@u))\n",
    "        \n",
    "        Q[k+1:, :] = Q[k+1:, :] - 2*np.outer(u, u.T@Q[k+1:, :])\n",
    "        \n",
    "    return(Q.T, H)\n"
   ]
  },
  {
   "cell_type": "code",
   "execution_count": null,
   "metadata": {},
   "outputs": [],
   "source": [
    "A = np.random.random((8,8))\n",
    "q, h = hessenberg(A)\n",
    "np.allclose(np.triu(H, -1), H)\n",
    "np.allclose(Q @ H @ Q.T, A)"
   ]
  },
  {
   "cell_type": "markdown",
   "metadata": {},
   "source": [
    "# Least Squares and Eigen Values"
   ]
  },
  {
   "cell_type": "markdown",
   "metadata": {},
   "source": [
    "## Problem 1"
   ]
  },
  {
   "cell_type": "markdown",
   "metadata": {},
   "source": [
    "Problem 1. Write a function that accepts an m ⇥ n matrix A of rank n and a vector b of length n. Use the QR decomposition and (4.1) to solve the normal equations corresponding to Ax = b.\n",
    "You may use either SciPy’s QR routine or one of your own QR routines. In addition, you may use la.solve_triangular(), SciPy’s optimized routine for solving triangular systems."
   ]
  },
  {
   "cell_type": "code",
   "execution_count": 227,
   "metadata": {},
   "outputs": [],
   "source": [
    "def leastSquares(A, b):\n",
    "    q,r = modified_gramschmidt(A)\n",
    "    s = np.dot(q.T, b)\n",
    "    t = la.solve_triangular(r,s)\n",
    "    return(t)"
   ]
  },
  {
   "cell_type": "code",
   "execution_count": 228,
   "metadata": {},
   "outputs": [
    {
     "name": "stdout",
     "output_type": "stream",
     "text": [
      "[ 6.54495229 -4.24942385 -4.85458818 -3.88306478  5.29161605]\n"
     ]
    }
   ],
   "source": [
    "A = np.random.random((5,5))\n",
    "b = np.random.random(5)\n",
    "print(leastSquares(A, b))"
   ]
  },
  {
   "cell_type": "markdown",
   "metadata": {},
   "source": [
    "## Problem 2"
   ]
  },
  {
   "cell_type": "markdown",
   "metadata": {},
   "source": [
    "Problem 2. The file housing.npy contains the purchase-only housing price index, a measure of how housing prices are changing, for the United States from 2000 to 2010.a Each row in the array is a separate measurement; the columns are the year and the price index, in that order. To avoid large numerical computations, the year measurements start at 0 instead of 2000.\n",
    "Find the least squares line that relates the year to the housing price index (i.e., let year be the x-axis and index the y-axis).\n",
    "1. Construct the matrix A and the vector b described by (4.2).\n",
    "(Hint: np.vstack(), np.column_stack(), and/or np.ones() may be helpful.)\n",
    "2. Use your function from Problem 1 to find the least squares solution.\n",
    "3. Plot the data points as a scatter plot.\n",
    "4. Plot the least squares line with the scatter plot."
   ]
  },
  {
   "cell_type": "code",
   "execution_count": 229,
   "metadata": {},
   "outputs": [
    {
     "name": "stdout",
     "output_type": "stream",
     "text": [
      "       0       1\n",
      "0    0.0  136.86\n",
      "1    0.5  142.70\n",
      "2    1.0  146.53\n",
      "3    1.5  152.65\n",
      "4    2.0  156.08\n",
      "5    2.5  163.71\n",
      "6    3.0  168.12\n",
      "7    3.5  176.16\n",
      "8    4.0  182.12\n",
      "9    4.5  193.75\n",
      "10   5.0  201.04\n",
      "11   5.5  214.33\n",
      "12   6.0  219.40\n",
      "13   6.5  224.39\n",
      "14   7.0  223.85\n",
      "15   7.5  223.79\n",
      "16   8.0  211.57\n",
      "17   8.5  203.97\n",
      "18   9.0  193.75\n",
      "19   9.5  193.51\n",
      "20  10.0  187.84\n",
      "21  10.5  187.59\n",
      "22  11.0  177.82\n",
      "23  11.5  181.29\n",
      "24  12.0  178.66\n",
      "25  12.5  188.22\n",
      "26  13.0  190.87\n",
      "27  13.5  203.11\n",
      "28  14.0  203.56\n",
      "29  14.5  212.70\n",
      "30  15.0  214.26\n",
      "31  15.5  224.90\n",
      "32  16.0  226.51\n"
     ]
    }
   ],
   "source": [
    "housing = np.load(\"housing.npy\")\n",
    "print(pd.DataFrame(housing))"
   ]
  },
  {
   "cell_type": "code",
   "execution_count": 232,
   "metadata": {},
   "outputs": [
    {
     "data": {
      "text/plain": [
       "array([  3.37476604, 164.08096257])"
      ]
     },
     "execution_count": 232,
     "metadata": {},
     "output_type": "execute_result"
    }
   ],
   "source": [
    "A = np.column_stack((housing[:,0], np.ones(len(housing))))\n",
    "b = housing[:,1]\n",
    "least_sq = leastSquares(A, b)"
   ]
  },
  {
   "cell_type": "code",
   "execution_count": 235,
   "metadata": {},
   "outputs": [
    {
     "data": {
      "text/plain": [
       "Text(0.5,0,'Period')"
      ]
     },
     "execution_count": 235,
     "metadata": {},
     "output_type": "execute_result"
    },
    {
     "data": {
      "image/png": "[encoded data removed]",
      "text/plain": [
       "<Figure size 720x720 with 1 Axes>"
      ]
     },
     "metadata": {},
     "output_type": "display_data"
    }
   ],
   "source": [
    "#plot\n",
    "\n",
    "least_sq_val = A @ least_sq\n",
    "\n",
    "%matplotlib inline\n",
    "plt.figure(figsize = (10,10))\n",
    "plt.scatter(housing[:,0], housing[:,1])\n",
    "plt.plot(housing[:,0],least_sq_val)\n",
    "plt.title(\"Housing 2000 - 2010\")\n",
    "plt.ylabel(\"Price Index\")\n",
    "plt.xlabel(\"Period\")"
   ]
  },
  {
   "cell_type": "markdown",
   "metadata": {},
   "source": [
    "## Problem 3"
   ]
  },
  {
   "cell_type": "code",
   "execution_count": 254,
   "metadata": {},
   "outputs": [
    {
     "data": {
      "image/png": "[encoded data removed]",
      "text/plain": [
       "<Figure size 720x720 with 4 Axes>"
      ]
     },
     "metadata": {},
     "output_type": "display_data"
    }
   ],
   "source": [
    "poly_deg = np.array([3,6,9,12])\n",
    "domain = np.linspace(0, 16, 50)\n",
    "\n",
    "plt.figure(figsize = (10,10))\n",
    "for i in range(0, len(poly_deg)):\n",
    "    \n",
    "    x = np.polyfit(housing[:,0], housing[:,1], poly_deg[i])\n",
    "    y = np.poly1d(x)\n",
    "    z = y(domain)\n",
    "    subplot = int(str(22)+str(i+1))\n",
    "    plt.subplot(subplot)\n",
    "    plt.scatter(housing[:,0], housing[:,1], label = \"Real Price\")\n",
    "    plt.plot(domain, z, c = \"r\", label = \"Polynomial Fit\")\n",
    "    plt.title(r\"Polynomail Degree: {}\".format(poly_deg[i]))\n",
    "    plt.legend()\n",
    "    plt.ylabel(\"Price Index\")\n",
    "    plt.xlabel(\"Period\")\n"
   ]
  },
  {
   "cell_type": "markdown",
   "metadata": {},
   "source": [
    "## Problem 4:"
   ]
  },
  {
   "cell_type": "markdown",
   "metadata": {},
   "source": [
    "Problem 4. The general equation for an ellipse is\n",
    "\n",
    "$ax^2 +bx+cxy+dy+ey^2 =1$\n",
    "\n",
    "Write a function that calculates the parameters for the ellipse that best fits the data in the file ellipse.npy. Plot the original data points and the ellipse together, using the following function to plot the ellipse."
   ]
  },
  {
   "cell_type": "code",
   "execution_count": 286,
   "metadata": {},
   "outputs": [],
   "source": [
    "def plot_ellipse(a, b, c, d, e):\n",
    "    \"\"\"Plot an ellipse of the form ax^2 + bx + cxy + dy + ey^2 = 1.\"\"\"\n",
    "    theta = np.linspace(0, 2*np.pi, 200)\n",
    "    cos_t, sin_t = np.cos(theta), np.sin(theta)\n",
    "    A = a*(cos_t**2) + c*cos_t*sin_t + e*(sin_t**2)\n",
    "    B = b*cos_t + d*sin_t\n",
    "    r = (-B + np.sqrt(B**2 + 4*A)) / (2*A)\n",
    "    plt.plot(r*cos_t, r*sin_t, lw=2)\n",
    "    plt.gca().set_aspect(\"equal\", \"datalim\")"
   ]
  },
  {
   "cell_type": "code",
   "execution_count": 287,
   "metadata": {},
   "outputs": [],
   "source": [
    "ellipse = np.load(\"ellipse.npy\")\n",
    "x = ellipse[:,0]\n",
    "y = ellipse[:,1]\n",
    "A = np.column_stack((x ** 2, x, x * y, y, y ** 2))\n",
    "b = np.ones(len(ellipse))"
   ]
  },
  {
   "cell_type": "code",
   "execution_count": 288,
   "metadata": {},
   "outputs": [],
   "source": [
    "a,b,c,d,e = la.lstsq(A,b)[0]"
   ]
  },
  {
   "cell_type": "code",
   "execution_count": 294,
   "metadata": {},
   "outputs": [
    {
     "data": {
      "text/plain": [
       "<matplotlib.collections.PathCollection at 0x114a2fe48>"
      ]
     },
     "execution_count": 294,
     "metadata": {},
     "output_type": "execute_result"
    },
    {
     "data": {
      "image/png": "[encoded data removed]",
      "text/plain": [
       "<Figure size 432x288 with 1 Axes>"
      ]
     },
     "metadata": {},
     "output_type": "display_data"
    }
   ],
   "source": [
    "plot_ellipse(a, b, c, d, e)\n",
    "plt.scatter(ellipse[:,0], ellipse[:,1])"
   ]
  },
  {
   "cell_type": "markdown",
   "metadata": {},
   "source": [
    "# Problem 5"
   ]
  },
  {
   "cell_type": "code",
   "execution_count": 330,
   "metadata": {},
   "outputs": [],
   "source": [
    "def powerMethod(A, N, tolerance):\n",
    "    m,n = A.shape\n",
    "    x = np.random.random(n)\n",
    "    x = x / la.norm(x)\n",
    "    \n",
    "    iter = 1\n",
    "    \n",
    "    e = tolerance + 1\n",
    "    \n",
    "    x_k = x\n",
    "    \n",
    "    while(iter < N and e > tolerance):\n",
    "        x_kp1 = np.dot(A, x)\n",
    "        x_kp1 = x_kp1/la.norm(xk)\n",
    "        e = la.norm(x_kp1 - x_k)\n",
    "        x_k = x_kp1\n",
    "        iter += 1\n",
    "    z = np.dot(A,x_k)\n",
    "    y = np.dot(x_k.T, z)\n",
    "    \n",
    "    return(y, x_k)"
   ]
  },
  {
   "cell_type": "code",
   "execution_count": 331,
   "metadata": {},
   "outputs": [],
   "source": [
    "A = np.random.random((10,10))"
   ]
  },
  {
   "cell_type": "code",
   "execution_count": 337,
   "metadata": {},
   "outputs": [],
   "source": [
    "y, x = powerMethod(A, 10, 1e-10)"
   ]
  },
  {
   "cell_type": "code",
   "execution_count": 338,
   "metadata": {},
   "outputs": [
    {
     "data": {
      "text/plain": [
       "True"
      ]
     },
     "execution_count": 338,
     "metadata": {},
     "output_type": "execute_result"
    }
   ],
   "source": [
    "eigs, vecs = la.eig(A)\n",
    "loc = np.argmax(eigs)\n",
    "lamb, x = eigs[loc], vecs[:,loc]\n",
    "np.allclose(A@ x, lamb * x)"
   ]
  },
  {
   "cell_type": "markdown",
   "metadata": {},
   "source": [
    "## Problem 6"
   ]
  },
  {
   "cell_type": "code",
   "execution_count": 352,
   "metadata": {},
   "outputs": [],
   "source": [
    "def qrAlg(A, N, tol):\n",
    "    m,n = A.shape\n",
    "    S = la.hessenberg(A)\n",
    "    for i in range(0, N):\n",
    "        q,r = la.qr(S)\n",
    "        S = r@q\n",
    "    \n",
    "    eigs = []\n",
    "    \n",
    "    i = 0\n",
    "    \n",
    "    while i < n:\n",
    "        if(S[i,i] == np.diag(S)[-1]):\n",
    "            eigs.append(S[i,i])\n",
    "        elif(S[i+1, i+1] < tol):\n",
    "            eigs.append(S[i,i])\n",
    "        else:\n",
    "            a = 1\n",
    "            b = -(S[i,i] + S[i+1, i+1])\n",
    "            c = (S[i,i] * S[i+1, i+1] - S[i, i+1] * S[i+1, i])\n",
    "            eig1 = (-b + sqrt(b ** 2 - 4*a*c)) / (2*a)\n",
    "            eig2 = (-b - sqrt(b ** 2 - 4*a*c)) / (2*a)\n",
    "            eigs.append([eig1, eig2])\n",
    "        i+=1\n",
    "    return(eigs)"
   ]
  },
  {
   "cell_type": "code",
   "execution_count": 355,
   "metadata": {},
   "outputs": [],
   "source": [
    "A = np.random.random((5,5))\n",
    "A = A + A.T\n",
    "eigenVals = qrAlg(A, 100, 1e-10)\n",
    "\n",
    "np_eigen = la.eig(A)"
   ]
  },
  {
   "cell_type": "code",
   "execution_count": 358,
   "metadata": {},
   "outputs": [
    {
     "name": "stdout",
     "output_type": "stream",
     "text": [
      "[4.9995457562731405, [1.4859387039182317, -1.8759737203485738], 1.485938703918232, -0.5468656123078821, -0.1708874680348509]\n"
     ]
    }
   ],
   "source": [
    "print(eigenVals)"
   ]
  },
  {
   "cell_type": "code",
   "execution_count": 359,
   "metadata": {},
   "outputs": [
    {
     "name": "stdout",
     "output_type": "stream",
     "text": [
      "(array([ 4.99954576+0.j,  1.4859387 +0.j, -1.87597372+0.j, -0.17088747+0.j,\n",
      "       -0.54686561+0.j]), array([[-0.40219668, -0.52283344, -0.46360351, -0.34136688, -0.48313917],\n",
      "       [-0.44973271, -0.4133012 ,  0.77094503,  0.17547876, -0.04211368],\n",
      "       [-0.423235  ,  0.21483419, -0.32299487,  0.80668386, -0.14019227],\n",
      "       [-0.43729206, -0.1294602 , -0.24508655, -0.14660074,  0.84288583],\n",
      "       [-0.51538928,  0.70207809,  0.16224189, -0.42478846, -0.18625947]]))\n"
     ]
    }
   ],
   "source": [
    "print(np_eigen)"
   ]
  },
  {
   "cell_type": "markdown",
   "metadata": {},
   "source": [
    "# The SVD and Image Compression"
   ]
  },
  {
   "cell_type": "markdown",
   "metadata": {},
   "source": [
    "## Problem 1"
   ]
  },
  {
   "cell_type": "markdown",
   "metadata": {},
   "source": [
    "Problem 1. Write a function that accepts a matrix A and a small error tolerance tol. Use Algorithm 6.1 to compute the compact SVD of A. In step 6, compute r by counting the number of singular values that are greater than tol.\n",
    "\n",
    "Consider the following tips for implementing the algorithm.\n",
    "• The Hermitian AH can be computed with A.conj().T.\n",
    "\n",
    "• In step 4, the way that \u0000 is sorted needs to be stored so that the columns of V can be sorted the same way. Consider using np.argsort() and fancy indexing to do this, but remember that by default it sorts from least to greatest (not greatest to least).\n",
    "\n",
    "• Step 9 can be done by looping over the columns of V , but it can be done more easily and efficiently with array broadcasting.\n",
    "\n",
    "Test your function by calculating the compact SVD for random matrices. Verify that U and V are orthonormal, that U⌃VH = A, and that the number of nonzero singular values is the rank of A. You may also want to compre your results to SciPy’s SVD algorithm."
   ]
  },
  {
   "cell_type": "code",
   "execution_count": 371,
   "metadata": {},
   "outputs": [],
   "source": [
    "def compactSVD(A, tol = 1e-10):\n",
    "    lam, V = la.eig(np.dot(A.conj().T,A))\n",
    "    \n",
    "    sigma = np.sqrt(lam)\n",
    "    \n",
    "    i = np.argsort(sigma)[::-1]\n",
    "    \n",
    "    sigma = sigma[i]\n",
    "    \n",
    "    V = V[i]\n",
    "    \n",
    "    r = len(sigma[sigma > tol])\n",
    "    \n",
    "    sigma_1 = sigma[:r]\n",
    "    \n",
    "    V_1 = V[:,:r]\n",
    "    \n",
    "    U_1 = A @ (V_1 / sigma_1)\n",
    "    \n",
    "    return(U_1, sigma_1, V_1.conj().T)\n",
    "    "
   ]
  },
  {
   "cell_type": "code",
   "execution_count": 374,
   "metadata": {},
   "outputs": [],
   "source": [
    "A = np.random.random((10,5))\n",
    "u, sig, v = compactSVD(A)\n",
    "u1, sig1, v1 = la.svd(A)"
   ]
  },
  {
   "cell_type": "code",
   "execution_count": 377,
   "metadata": {},
   "outputs": [
    {
     "name": "stdout",
     "output_type": "stream",
     "text": [
      "[3.8410126 +0.j 1.27966777+0.j 0.8599584 +0.j 0.6885642 +0.j\n",
      " 0.54543906+0.j]\n",
      "[3.8410126  1.27966777 0.8599584  0.6885642  0.54543906]\n"
     ]
    }
   ],
   "source": [
    "print(sig)\n",
    "print(sig1)"
   ]
  },
  {
   "cell_type": "code",
   "execution_count": 378,
   "metadata": {},
   "outputs": [
    {
     "name": "stdout",
     "output_type": "stream",
     "text": [
      "[[ 0.43414028+0.j -0.13824828+0.j  0.41717555+0.j -0.17053615+0.j\n",
      "  -0.05807056+0.j]\n",
      " [ 0.35581372+0.j  0.24407849+0.j  0.10574752+0.j -0.30998951+0.j\n",
      "  -0.42651043+0.j]\n",
      " [ 0.13110377+0.j -0.07059717+0.j -0.21912522+0.j  0.52073488+0.j\n",
      "  -0.17988958+0.j]\n",
      " [ 0.24628791+0.j -0.19727865+0.j -0.32400897+0.j -0.30424492+0.j\n",
      "  -0.11840842+0.j]\n",
      " [ 0.44451891+0.j -0.08817042+0.j  0.0009448 +0.j  0.11011308+0.j\n",
      "  -0.40030378+0.j]\n",
      " [ 0.25590517+0.j -0.74012754+0.j  0.02158149+0.j -0.12203469+0.j\n",
      "   0.43390573+0.j]\n",
      " [ 0.18653628+0.j -0.18546979+0.j -0.03614316+0.j  0.65063476+0.j\n",
      "  -0.13423433+0.j]\n",
      " [ 0.40698718+0.j  0.39091031+0.j -0.25046192+0.j  0.10296175+0.j\n",
      "   0.56246351+0.j]\n",
      " [ 0.17367008+0.j  0.24027081+0.j  0.6775989 +0.j  0.20974875+0.j\n",
      "   0.25417115+0.j]\n",
      " [ 0.33673836+0.j  0.27732202+0.j -0.37167178+0.j -0.0784572 +0.j\n",
      "   0.14433129+0.j]] [[-0.43414028 -0.13824828 -0.41717555  0.17053615 -0.05807056 -0.55453169\n",
      "  -0.14581298 -0.23959669 -0.44049217 -0.0755822 ]\n",
      " [-0.35581372  0.24407849 -0.10574752  0.30998951 -0.42651043  0.57802022\n",
      "   0.13136735 -0.27353459 -0.01815052 -0.31324069]\n",
      " [-0.13110377 -0.07059717  0.21912522 -0.52073488 -0.17988958  0.08505738\n",
      "  -0.71631462 -0.27523812  0.0727775  -0.15777491]\n",
      " [-0.24628791 -0.19727865  0.32400897  0.30424492 -0.11840842 -0.40256313\n",
      "   0.05849988 -0.02184546  0.6749984  -0.25937751]\n",
      " [-0.44451891 -0.08817042 -0.0009448  -0.11011308 -0.40030378  0.058442\n",
      "  -0.07017108  0.70920157 -0.01636696  0.33269479]\n",
      " [-0.25590517 -0.74012754 -0.02158149  0.12203469  0.43390573  0.4190995\n",
      "  -0.02763411 -0.05447435 -0.00427054  0.06080817]\n",
      " [-0.18653628 -0.18546979  0.03614316 -0.65063476 -0.13423433 -0.07890169\n",
      "   0.6572855  -0.19775053 -0.01954281 -0.10206615]\n",
      " [-0.40698718  0.39091031  0.25046192 -0.10296175  0.56246351  0.00090465\n",
      "   0.01108179  0.29160526 -0.163408   -0.42425658]\n",
      " [-0.17367008  0.24027081 -0.6775989  -0.20974875  0.25417115  0.0590376\n",
      "  -0.06432467 -0.03101905  0.56328315  0.13600611]\n",
      " [-0.33673836  0.27732202  0.37167178  0.0784572   0.14433129 -0.01799442\n",
      "   0.05458936 -0.400629    0.00772559  0.69332945]]\n"
     ]
    }
   ],
   "source": [
    "print(u, u1)"
   ]
  },
  {
   "cell_type": "code",
   "execution_count": 379,
   "metadata": {},
   "outputs": [
    {
     "name": "stdout",
     "output_type": "stream",
     "text": [
      "[[ 0.47713593  0.42794972  0.53074133  0.45535989  0.31648279]\n",
      " [ 0.29963036 -0.6268805   0.22898116  0.39467148 -0.55591774]\n",
      " [-0.41237685  0.35561735 -0.36143836  0.70697685 -0.27023636]\n",
      " [ 0.64915802 -0.05171912 -0.73148604  0.09821631  0.17663731]\n",
      " [-0.30183134 -0.54290083 -0.01310582  0.35695811  0.6975426 ]] [[-0.47713593 -0.42794972 -0.53074133 -0.45535989 -0.31648279]\n",
      " [ 0.29963036 -0.6268805   0.22898116  0.39467148 -0.55591774]\n",
      " [ 0.41237685 -0.35561735  0.36143836 -0.70697685  0.27023636]\n",
      " [-0.64915802  0.05171912  0.73148604 -0.09821631 -0.17663731]\n",
      " [-0.30183134 -0.54290083 -0.01310582  0.35695811  0.6975426 ]]\n"
     ]
    }
   ],
   "source": [
    "print(v, v1)"
   ]
  },
  {
   "cell_type": "markdown",
   "metadata": {},
   "source": [
    "## Problem 2"
   ]
  },
  {
   "cell_type": "code",
   "execution_count": 427,
   "metadata": {},
   "outputs": [],
   "source": [
    "def svd_viz(A):\n",
    "    S = np.zeros((2,200))\n",
    "    theta = np.linspace(0, 2 * np.pi, 200)\n",
    "    S[0,:] = np.cos(theta)\n",
    "    S[1,:] = np.sin(theta)\n",
    "    \n",
    "    E = np.array([[1, 0, 0], [0, 0, 1]])\n",
    "    \n",
    "    u, sigma, v = la.svd(A)\n",
    "    plt.figure(figsize = (10,10))\n",
    "    \n",
    "    fig, axes = plt.subplots(2,2, figsize = (10,10))\n",
    "       \n",
    "    axes[0,0].plot(S[0,:],S[1,:])\n",
    "    axes[0,0].plot(E[0,:], E[1,:])\n",
    "    \n",
    "    axes[0,1].plot(np.dot(v, S)[0, :], np.dot(v, S)[1, :], '-', lw=1)\n",
    "    axes[0,1].plot(np.dot(v, E)[0, :], np.dot(v, E)[1, :], 'orange')\n",
    "\n",
    "    axes[1,0].plot((np.diag(sigma) @ v @ S)[0, :], (np.diag(sigma) @ v @ S)[1, :], '-', lw=1)\n",
    "    axes[1,0].plot((np.diag(sigma) @ v @ E)[0, :], (np.diag(sigma) @ v @ E)[1, :], 'orange')\n",
    "\n",
    "    axes[1,1].plot((U @ np.diag(sigma) @ v @ S)[0, :], (U @ np.diag(sigma) @ v @ S)[1, :])\n",
    "    axes[1,1].plot((U @ np.diag(sigma) @ v @ E)[0, :], (U @ np.diag(sigma) @ v @ E)[1, :])"
   ]
  },
  {
   "cell_type": "code",
   "execution_count": 428,
   "metadata": {},
   "outputs": [
    {
     "ename": "ValueError",
     "evalue": "shapes (5,5) and (2,200) not aligned: 5 (dim 1) != 2 (dim 0)",
     "output_type": "error",
     "traceback": [
      "\u001b[0;31m---------------------------------------------------------------------------\u001b[0m",
      "\u001b[0;31mValueError\u001b[0m                                Traceback (most recent call last)",
      "\u001b[0;32m<ipython-input-428-6ea80946df6c>\u001b[0m in \u001b[0;36m<module>\u001b[0;34m()\u001b[0m\n\u001b[0;32m----> 1\u001b[0;31m \u001b[0msvd_viz\u001b[0m\u001b[0;34m(\u001b[0m\u001b[0mA\u001b[0m\u001b[0;34m)\u001b[0m\u001b[0;34m\u001b[0m\u001b[0m\n\u001b[0m",
      "\u001b[0;32m<ipython-input-427-aa04abedb1bd>\u001b[0m in \u001b[0;36msvd_viz\u001b[0;34m(A)\u001b[0m\n\u001b[1;32m     15\u001b[0m     \u001b[0maxes\u001b[0m\u001b[0;34m[\u001b[0m\u001b[0;36m0\u001b[0m\u001b[0;34m,\u001b[0m\u001b[0;36m0\u001b[0m\u001b[0;34m]\u001b[0m\u001b[0;34m.\u001b[0m\u001b[0mplot\u001b[0m\u001b[0;34m(\u001b[0m\u001b[0mE\u001b[0m\u001b[0;34m[\u001b[0m\u001b[0;36m0\u001b[0m\u001b[0;34m,\u001b[0m\u001b[0;34m:\u001b[0m\u001b[0;34m]\u001b[0m\u001b[0;34m,\u001b[0m \u001b[0mE\u001b[0m\u001b[0;34m[\u001b[0m\u001b[0;36m1\u001b[0m\u001b[0;34m,\u001b[0m\u001b[0;34m:\u001b[0m\u001b[0;34m]\u001b[0m\u001b[0;34m)\u001b[0m\u001b[0;34m\u001b[0m\u001b[0m\n\u001b[1;32m     16\u001b[0m \u001b[0;34m\u001b[0m\u001b[0m\n\u001b[0;32m---> 17\u001b[0;31m     \u001b[0maxes\u001b[0m\u001b[0;34m[\u001b[0m\u001b[0;36m0\u001b[0m\u001b[0;34m,\u001b[0m\u001b[0;36m1\u001b[0m\u001b[0;34m]\u001b[0m\u001b[0;34m.\u001b[0m\u001b[0mplot\u001b[0m\u001b[0;34m(\u001b[0m\u001b[0mnp\u001b[0m\u001b[0;34m.\u001b[0m\u001b[0mdot\u001b[0m\u001b[0;34m(\u001b[0m\u001b[0mv\u001b[0m\u001b[0;34m,\u001b[0m \u001b[0mS\u001b[0m\u001b[0;34m)\u001b[0m\u001b[0;34m[\u001b[0m\u001b[0;36m0\u001b[0m\u001b[0;34m,\u001b[0m \u001b[0;34m:\u001b[0m\u001b[0;34m]\u001b[0m\u001b[0;34m,\u001b[0m \u001b[0mnp\u001b[0m\u001b[0;34m.\u001b[0m\u001b[0mdot\u001b[0m\u001b[0;34m(\u001b[0m\u001b[0mv\u001b[0m\u001b[0;34m,\u001b[0m \u001b[0mS\u001b[0m\u001b[0;34m)\u001b[0m\u001b[0;34m[\u001b[0m\u001b[0;36m1\u001b[0m\u001b[0;34m,\u001b[0m \u001b[0;34m:\u001b[0m\u001b[0;34m]\u001b[0m\u001b[0;34m,\u001b[0m \u001b[0;34m'-'\u001b[0m\u001b[0;34m,\u001b[0m \u001b[0mlw\u001b[0m\u001b[0;34m=\u001b[0m\u001b[0;36m1\u001b[0m\u001b[0;34m)\u001b[0m\u001b[0;34m\u001b[0m\u001b[0m\n\u001b[0m\u001b[1;32m     18\u001b[0m     \u001b[0maxes\u001b[0m\u001b[0;34m[\u001b[0m\u001b[0;36m0\u001b[0m\u001b[0;34m,\u001b[0m\u001b[0;36m1\u001b[0m\u001b[0;34m]\u001b[0m\u001b[0;34m.\u001b[0m\u001b[0mplot\u001b[0m\u001b[0;34m(\u001b[0m\u001b[0mnp\u001b[0m\u001b[0;34m.\u001b[0m\u001b[0mdot\u001b[0m\u001b[0;34m(\u001b[0m\u001b[0mv\u001b[0m\u001b[0;34m,\u001b[0m \u001b[0mE\u001b[0m\u001b[0;34m)\u001b[0m\u001b[0;34m[\u001b[0m\u001b[0;36m0\u001b[0m\u001b[0;34m,\u001b[0m \u001b[0;34m:\u001b[0m\u001b[0;34m]\u001b[0m\u001b[0;34m,\u001b[0m \u001b[0mnp\u001b[0m\u001b[0;34m.\u001b[0m\u001b[0mdot\u001b[0m\u001b[0;34m(\u001b[0m\u001b[0mv\u001b[0m\u001b[0;34m,\u001b[0m \u001b[0mE\u001b[0m\u001b[0;34m)\u001b[0m\u001b[0;34m[\u001b[0m\u001b[0;36m1\u001b[0m\u001b[0;34m,\u001b[0m \u001b[0;34m:\u001b[0m\u001b[0;34m]\u001b[0m\u001b[0;34m,\u001b[0m \u001b[0;34m'orange'\u001b[0m\u001b[0;34m)\u001b[0m\u001b[0;34m\u001b[0m\u001b[0m\n\u001b[1;32m     19\u001b[0m \u001b[0;34m\u001b[0m\u001b[0m\n",
      "\u001b[0;31mValueError\u001b[0m: shapes (5,5) and (2,200) not aligned: 5 (dim 1) != 2 (dim 0)"
     ]
    },
    {
     "data": {
      "text/plain": [
       "<Figure size 720x720 with 0 Axes>"
      ]
     },
     "metadata": {},
     "output_type": "display_data"
    },
    {
     "data": {
      "image/png": "[encoded data removed]",
      "text/plain": [
       "<Figure size 720x720 with 4 Axes>"
      ]
     },
     "metadata": {},
     "output_type": "display_data"
    }
   ],
   "source": [
    "svd_viz(A)"
   ]
  },
  {
   "cell_type": "markdown",
   "metadata": {},
   "source": [
    "## Problem 3"
   ]
  },
  {
   "cell_type": "code",
   "execution_count": null,
   "metadata": {},
   "outputs": [],
   "source": [
    "def truncSVD(A):\n",
    "    u,sigma, v = la.svd(A)\n",
    "    \n",
    "    \n",
    "    "
   ]
  }
 ],
 "metadata": {
  "kernelspec": {
   "display_name": "Python 3",
   "language": "python",
   "name": "python3"
  },
  "language_info": {
   "codemirror_mode": {
    "name": "ipython",
    "version": 3
   },
   "file_extension": ".py",
   "mimetype": "text/x-python",
   "name": "python",
   "nbconvert_exporter": "python",
   "pygments_lexer": "ipython3",
   "version": "3.6.5"
  }
 },
 "nbformat": 4,
 "nbformat_minor": 2
}
