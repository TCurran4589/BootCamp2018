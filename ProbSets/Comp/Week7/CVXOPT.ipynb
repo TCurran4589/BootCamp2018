{
 "cells": [
  {
   "cell_type": "markdown",
   "metadata": {},
   "source": [
    "# Tom Curran\n",
    "---\n",
    "Interior Points 1\n",
    "\n",
    "July 31, 2018\n",
    "\n",
    "OSM Bootcamp 2018\n",
    "\n",
    "---"
   ]
  },
  {
   "cell_type": "markdown",
   "metadata": {},
   "source": [
    "**Problem 1.** \n",
    "Solve the following convex optimization problem:\n",
    "\n",
    "minimize 2x1 + x2 + 3x3\n",
    "\n",
    "subject to x1 + 2x2 ≥ 3\n",
    "\n",
    "2x1 + 10x2 + 3x3 ≥ 10\n",
    "\n",
    "x1 ≥ 0\n",
    "\n",
    "x2 ≥ 0\n",
    "\n",
    "x3 ≥ 0\n",
    "\n",
    "Report the values for x and the objective value that you obtain. Remember to make the necessary adjustments so that all inequality constraints are ≤ rather than ≥."
   ]
  },
  {
   "cell_type": "code",
   "execution_count": 4,
   "metadata": {},
   "outputs": [],
   "source": [
    "import pandas as pd\n",
    "import numpy as np\n",
    "import cvxopt as cv"
   ]
  },
  {
   "cell_type": "code",
   "execution_count": 42,
   "metadata": {},
   "outputs": [],
   "source": [
    "c = cv.matrix([2.,1.,3.])\n",
    "\n",
    "G = cv.matrix([[1.,2.,-1.,0.,0.],[2.,10.,0.,-1.,0.],[0.,3.,0.,0.,-1]])\n",
    "\n",
    "h = cv.matrix([3.,10.,0.,0.,0.])"
   ]
  },
  {
   "cell_type": "code",
   "execution_count": 45,
   "metadata": {},
   "outputs": [
    {
     "name": "stdout",
     "output_type": "stream",
     "text": [
      "     pcost       dcost       gap    pres   dres   k/t\n",
      " 0:  1.7500e+00 -2.4250e+01  2e+01  2e-01  6e+00  1e+00\n",
      " 1:  9.1946e-01 -9.1283e-01  6e-01  2e-02  5e-01  4e-01\n",
      " 2:  7.9357e-01 -8.1514e-02  4e-01  1e-02  3e-01  3e-01\n",
      " 3:  2.6934e-01 -2.0055e-01  6e-01  7e-03  2e-01  4e-01\n",
      " 4:  5.5845e-02 -4.5473e-02  1e-01  9e-04  2e-02  4e-03\n",
      " 5:  5.9902e-04 -5.1517e-04  1e-03  1e-05  3e-04  5e-05\n",
      " 6:  5.9925e-06 -5.1537e-06  1e-05  1e-07  3e-06  5e-07\n",
      " 7:  5.9925e-08 -5.1537e-08  1e-07  1e-09  3e-08  5e-09\n",
      " 8:  5.9925e-10 -5.1537e-10  1e-09  1e-11  3e-10  5e-11\n",
      "Optimal solution found.\n",
      "---------------------\n",
      "[-4.38e-12]\n",
      "[ 5.59e-10]\n",
      "[ 1.64e-11]\n",
      "\n",
      "---------------------\n",
      "Primal Objective:  5.992482898954994e-10\n"
     ]
    }
   ],
   "source": [
    "sol = cv.solvers.lp(c, G, h)\n",
    "print(\"---------------------\")\n",
    "print(sol['x'])\n",
    "print(\"---------------------\")\n",
    "print(\"Primal Objective: \", sol['primal objective'])"
   ]
  },
  {
   "cell_type": "markdown",
   "metadata": {},
   "source": [
    "**Problem 2.** \n",
    "Write a function called l1Min() that takes a matrix A and vector b as inputs, and\n",
    "solves the l1 optimization problem. Report the values for x and the objective value. Remember\n",
    "to first discard the unneccesary u values from the minimizer."
   ]
  }
 ],
 "metadata": {
  "kernelspec": {
   "display_name": "Python 3",
   "language": "python",
   "name": "python3"
  },
  "language_info": {
   "codemirror_mode": {
    "name": "ipython",
    "version": 3
   },
   "file_extension": ".py",
   "mimetype": "text/x-python",
   "name": "python",
   "nbconvert_exporter": "python",
   "pygments_lexer": "ipython3",
   "version": "3.6.5"
  }
 },
 "nbformat": 4,
 "nbformat_minor": 2
}
