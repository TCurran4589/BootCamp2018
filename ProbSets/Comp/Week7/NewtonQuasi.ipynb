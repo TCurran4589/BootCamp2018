{
 "cells": [
  {
   "cell_type": "markdown",
   "metadata": {},
   "source": [
    "# Newton & Quasi-Newton Methods\n",
    "---\n",
    "\n",
    "Tom Curran\n",
    "\n",
    "OSM Bootcamp 2018\n",
    "\n",
    "July 31, 2018\n",
    "\n",
    "---"
   ]
  },
  {
   "cell_type": "code",
   "execution_count": 55,
   "metadata": {},
   "outputs": [],
   "source": [
    "import pandas as pd\n",
    "import numpy as np\n",
    "from scipy import optimize as opt\n",
    "from numpy.linalg import solve, norm\n",
    "import time\n",
    "import matplotlib.pyplot as plt\n",
    "%matplotlib inline"
   ]
  },
  {
   "cell_type": "markdown",
   "metadata": {},
   "source": [
    "**Problem 1.** "
   ]
  },
  {
   "cell_type": "code",
   "execution_count": 59,
   "metadata": {},
   "outputs": [],
   "source": [
    "def newton(Df, D2f, x0, maxiter = 1000, tol = 1e-5):\n",
    "    converge = False\n",
    "    iter = 0\n",
    "    x = x0\n",
    "    error = tol+1\n",
    "\n",
    "    while iter < maxiter and error > tol:\n",
    "        \n",
    "        df_x = Df(x)\n",
    "        d2f_x = D2f(x)\n",
    "        \n",
    "        z_k = solve(d2f_x,df_x)\n",
    "        \n",
    "        a = x - z_k\n",
    "        \n",
    "        error = norm(df_x, np.inf)\n",
    "        iter += 1\n",
    "        \n",
    "        x = a\n",
    "        \n",
    "    if iter < maxiter:\n",
    "        converge = True\n",
    "    \n",
    "    return(x, converge, iter)        "
   ]
  },
  {
   "cell_type": "code",
   "execution_count": 84,
   "metadata": {},
   "outputs": [
    {
     "name": "stdout",
     "output_type": "stream",
     "text": [
      "Optimization terminated successfully.\n",
      "         Current function value: 0.000000\n",
      "         Iterations: 35\n",
      "         Function evaluations: 42\n",
      "         Gradient evaluations: 42\n"
     ]
    },
    {
     "data": {
      "text/plain": [
       "1.0000002131864645"
      ]
     },
     "execution_count": 84,
     "metadata": {},
     "output_type": "execute_result"
    }
   ],
   "source": [
    "f = opt.rosen # The Rosenbrock function.\n",
    "df = opt.rosen_der # The first derivative.\n",
    "v = opt.rosen_hess # The second derivative (Hessian).\n",
    "opt.fmin_bfgs(f=f, x0=[-2,2], fprime=df, maxiter=50)[0]"
   ]
  },
  {
   "cell_type": "code",
   "execution_count": 61,
   "metadata": {},
   "outputs": [
    {
     "data": {
      "text/plain": [
       "(array([1., 1.]), True, 6)"
      ]
     },
     "execution_count": 61,
     "metadata": {},
     "output_type": "execute_result"
    }
   ],
   "source": [
    "newton(df, d2f, x0=np.array([-2, 2]), maxiter = 50)"
   ]
  },
  {
   "cell_type": "markdown",
   "metadata": {},
   "source": [
    "*** \n",
    "\n",
    "** Problem 2**"
   ]
  },
  {
   "cell_type": "code",
   "execution_count": 39,
   "metadata": {},
   "outputs": [
    {
     "ename": "SyntaxError",
     "evalue": "unexpected EOF while parsing (<ipython-input-39-59b4b8b66b25>, line 9)",
     "output_type": "error",
     "traceback": [
      "\u001b[0;36m  File \u001b[0;32m\"<ipython-input-39-59b4b8b66b25>\"\u001b[0;36m, line \u001b[0;32m9\u001b[0m\n\u001b[0;31m    \u001b[0m\n\u001b[0m    ^\u001b[0m\n\u001b[0;31mSyntaxError\u001b[0m\u001b[0;31m:\u001b[0m unexpected EOF while parsing\n"
     ]
    }
   ],
   "source": [
    "def bfgs(df, x0, maxiter, tol = 1e-5):\n",
    "    \n",
    "    converge = False\n",
    "    iter = 0\n",
    "    x = x0\n",
    "    error = tol+1\n",
    "    \n",
    "    while iter < maxiter and error > tol:\n",
    "        \n",
    "        \n",
    "    "
   ]
  },
  {
   "cell_type": "markdown",
   "metadata": {},
   "source": [
    "***\n",
    "\n",
    "** Problem 3 **"
   ]
  },
  {
   "cell_type": "code",
   "execution_count": 118,
   "metadata": {},
   "outputs": [
    {
     "data": {
      "image/png": "[encoded data removed]",
      "text/plain": [
       "<Figure size 720x720 with 1 Axes>"
      ]
     },
     "metadata": {},
     "output_type": "display_data"
    }
   ],
   "source": [
    "def q3(N):\n",
    "    \n",
    "    q1 = np.zeros(N)\n",
    "    sp = np.zeros(N)\n",
    "    \n",
    "    q1i = np.zeros(N)\n",
    "    spi = np.zeros(N)\n",
    "    \n",
    "    for i in range(0, N):\n",
    "        x0 = np.random.uniform(low = -3,high = 3,size = 2)\n",
    "        #print(x0)\n",
    "        start = time.time()\n",
    "        \n",
    "        newton_x, newton_converge, newton_iter = newton(opt.rosen_der, opt.rosen_hess, x0)\n",
    "        q1[i] = time.time() - start\n",
    "        q1i[i] = newton_iter\n",
    "        \n",
    "        start2 = time.time()\n",
    "        sp_out = opt.fmin_bfgs(opt.rosen, x0, fprime=opt.rosen_der, disp=False, retall=1)\n",
    "        sp[i] = time.time() - start2\n",
    "        spi[i] = len(sp_out[1])\n",
    "    \n",
    "    plt.figure(figsize = (10,10))\n",
    "    plt.loglog()\n",
    "    plt.scatter(q1, q1i, label = \"Newton\")\n",
    "    plt.scatter(sp,spi, label = \"SciPy\")\n",
    "    plt.ylabel(\"Iterations\")\n",
    "    plt.xlabel(\"Time\")\n",
    "    plt.title(\"Question 3\")\n",
    "    plt.legend()\n",
    "q3(1000)"
   ]
  },
  {
   "cell_type": "code",
   "execution_count": null,
   "metadata": {},
   "outputs": [],
   "source": []
  }
 ],
 "metadata": {
  "kernelspec": {
   "display_name": "Python 3",
   "language": "python",
   "name": "python3"
  },
  "language_info": {
   "codemirror_mode": {
    "name": "ipython",
    "version": 3
   },
   "file_extension": ".py",
   "mimetype": "text/x-python",
   "name": "python",
   "nbconvert_exporter": "python",
   "pygments_lexer": "ipython3",
   "version": "3.6.5"
  }
 },
 "nbformat": 4,
 "nbformat_minor": 2
}
