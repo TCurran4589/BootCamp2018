{
 "cells": [
  {
   "cell_type": "code",
   "execution_count": 1,
   "metadata": {},
   "outputs": [],
   "source": [
    "import pandas as pd\n",
    "import numpy as np\n",
    "import time\n",
    "import scipy.optimize as opt\n",
    "import pprint as pp\n",
    "import matplotlib.pyplot as plt\n",
    "%matplotlib inline"
   ]
  },
  {
   "cell_type": "code",
   "execution_count": 2,
   "metadata": {},
   "outputs": [],
   "source": [
    "#------------------------------------------------------------------------------#\n",
    "#2.25\n",
    "def wage(alpha, A, capital, labor)            :\n",
    "    wages = np.zeros([len(labor)])\n",
    "    for i in range(0, len(labor))             :\n",
    "        wages[i]= (1-alpha) * A * (np.power((capital/labor[i]), alpha))\n",
    "    return(wages)\n",
    "#------------------------------------------------------------------------------#\n",
    "#2.26\n",
    "def interest(alpha, A, labor, capital, delta) :\n",
    "    interest = np.zeros([len(labor)])\n",
    "    for i in range(0, len(labor))             :\n",
    "        interest[i] = alpha * A * np.power((labor[i]/capital), (1-alpha)) - delta\n",
    "    return(interest)\n",
    "\n",
    "#------------------------------------------------------------------------------#\n",
    "\n",
    "def capital(bvec_guess, b0 = 0)               :\n",
    "    k = b0 + bvec_guess.sum()\n",
    "    return(k)\n",
    "\n",
    "#------------------------------------------------------------------------------#\n",
    "\n",
    "def labor_supply(n_periods = 3)               :\n",
    "    labor = np.ones(n_periods)\n",
    "    labor [-1] = .2\n",
    "    return(labor)\n",
    "\n",
    "#------------------------------------------------------------------------------#\n",
    "\n",
    "def production(A, capital, alpha, labor)      :\n",
    "    p = A * (capital ** alpha) * (labor ** (1-alpha))\n",
    "    return(p)\n",
    "\n",
    "#------------------------------------------------------------------------------#\n",
    "\n",
    "def crra(sigma, c)                            :\n",
    "    u = (np.power(c, (1-sigma)) - 1 )/ 1-sigma\n",
    "\n",
    "    u_prime = np.power(c, (-1*sigma))\n",
    "\n",
    "    u_dbprime = -sigma * np.power(c, (-sigma - 1))\n",
    "    return(u, u_prime, u_dbprime)\n",
    "\n",
    "#------------------------------------------------------------------------------#\n",
    "\n",
    "def consumptions(wage, labor_n, interest, savings):\n",
    "    c = np.zeros([len(labor_n)])\n",
    "    for i in range(0,len(labor_n))             :\n",
    "\n",
    "        for j in range(1, len(labor_n)):\n",
    "            if(i == len(labor_n)):\n",
    "                c_p = wage[i] * labor_n[i] + ((1 + interest[i])*savings[i])\n",
    "                c[i] = c_p\n",
    "            else:\n",
    "                c_p = wage[i] * labor_n[i] + ((1 + interest[i])*savings[i]) - savings[j]\n",
    "                c[i] = c_p\n",
    "    return(c)\n",
    "#------------------------------------------------------------------------------#"
   ]
  },
  {
   "cell_type": "markdown",
   "metadata": {},
   "source": [
    "***\n",
    "\n",
    "### Question 1"
   ]
  },
  {
   "cell_type": "code",
   "execution_count": 3,
   "metadata": {},
   "outputs": [],
   "source": [
    "def feasible(f_params,bvec_guess):\n",
    "\n",
    "    '''\n",
    "    f_params   : tuple of nvec, A, alpha, delta\n",
    "    bvec_guess : array; guess for the steady statesavings vector\n",
    "\n",
    "    K_cnstr    : singleton Bolean that equals True if K <= 0 for given f_params and bvec_guess\n",
    "\n",
    "    c_cnstr    : length 3 bootlean vector where the s^th element equals true if c_s <= 0 given f_params\n",
    "\n",
    "    b_cnstr    : length 2 boolean vector that denotes which element of bvec guess is likely responsible\n",
    "    for any of the consumption nonnegativity constraint violations identified by c_cnstr\n",
    "\n",
    "    * if the first element of c_cnstr is True, then the first element of b_cnstr is true\n",
    "    * if the scond element of c_cnstr is True than both element of b_cnstr is true\n",
    "    * if the last element of c_cnstr is True than the last elmenet of b_cnstr is true\n",
    "\n",
    "    nvec       : labor supply. If s = 1 or 2, n = 1 -- if n = 3, s = .2\n",
    "\n",
    "\n",
    "\n",
    "    * f_params :\n",
    "\n",
    "            * nvec = units of labor provided over n periods.\n",
    "                      n = 1 for all periods except for last, in which n = .2\n",
    "\n",
    "            * A =\n",
    "\n",
    "            * alpha =\n",
    "\n",
    "            * delta =\n",
    "\n",
    "    '''\n",
    "    #--------------------------------------------------------------------------#\n",
    "    #Declare problem paramters\n",
    "    n_periods, sigma, A, alpha, delta, beta = f_params\n",
    "    b0 = bvec_guess[0]\n",
    "    k = bvec_guess.sum()\n",
    "    l = np.array([1,1.2])\n",
    "    w = wage(alpha, A, k, l)\n",
    "    r = interest(alpha, A, l, k, delta)\n",
    "    p = production(A, k, alpha, l)\n",
    "    c = consumptions(w,l, r, bvec_guess)\n",
    "    #--------------------------------------------------------------------------#\n",
    "\n",
    "    #initializing emply constraint check\n",
    "\n",
    "    b_cnstr = np.zeros(2)\n",
    "    c_cnstr = np.zeros(3)\n",
    "\n",
    "    #--------------------------------------------------------------------------#\n",
    "    #c constraint is 3 boolen vector\n",
    "    #wage, labor_n, interest, savings_p, savings_tp1\n",
    "\n",
    "    #Determine capital constraint\n",
    "    if k <= 0                                     :\n",
    "        k_cnstr = True\n",
    "    else                                          :\n",
    "        k_cnstr = False\n",
    "\n",
    "\n",
    "    #consumption constraint                       : where c >= 0 for all periods and ages\n",
    "    #If value is True, than the constrinat is met. If the value at index i is False\n",
    "    # than the constraint is not met.\n",
    "    for j in range(0, len(c))                     :\n",
    "        if c[j] >= 0                              :\n",
    "            c_cnstr[j] = True\n",
    "        else                                      :\n",
    "            c_cnstr[j] = False\n",
    "\n",
    "    #Determine savings (b) constraint\n",
    "    #True == constraint met\n",
    "    #False = constraint not met\n",
    "    #* if the first element of c_cnstr is True, then the first element of b_cnstr is true\n",
    "    #* if the scond element of c_cnstr is True than both element of b_cnstr is true\n",
    "    #* if the last element of c_cnstr is True than the last elmenet of b_cnstr is true\n",
    "    if c_cnstr[0] == True                         :\n",
    "        b_cnstr[0] = True\n",
    "\n",
    "    if c_cnstr[1] == True                         :\n",
    "        b_cnstr = np.array([True, True])\n",
    "\n",
    "    if c_cnstr[-1] == True                        :\n",
    "        b_cnstr[-1] = True\n",
    "\n",
    "    properties = {\n",
    "        'savings': bvec_guess,\n",
    "        'capital': k,\n",
    "        'labor': l,\n",
    "        'wages': w,\n",
    "        'interest': r,\n",
    "        'production': p,\n",
    "        'consumption': c\n",
    "        }\n",
    "    return(k_cnstr, b_cnstr, c_cnstr, properties)\n"
   ]
  },
  {
   "cell_type": "code",
   "execution_count": 4,
   "metadata": {},
   "outputs": [],
   "source": [
    "#------------------------------------------------------------------------------#\n",
    "# Initial Parameters\n",
    "#------------------------------------------------------------------------------#\n",
    "sigma = 3\n",
    "A = 1\n",
    "alpha = .35\n",
    "delta = .6415\n",
    "beta = .442\n",
    "n_periods = 3\n",
    "laborSupply = labor_supply(n_periods)\n",
    "SS_tol = 1e-5\n",
    "f_params = (n_periods, sigma, A, alpha, delta, beta)"
   ]
  },
  {
   "cell_type": "markdown",
   "metadata": {},
   "source": [
    "#### Question 1.a"
   ]
  },
  {
   "cell_type": "code",
   "execution_count": 5,
   "metadata": {},
   "outputs": [
    {
     "name": "stdout",
     "output_type": "stream",
     "text": [
      "bvec_guess =[0.  1.  1.2]\n",
      "K constraing: False\n",
      "B constraint: [ True  True]\n",
      "C constraint: [0. 1. 0.]\n"
     ]
    }
   ],
   "source": [
    "bvec_guess = np.array([0,1.0,1.2])\n",
    "k_cnstr1, b_cnstr1, c_cnstr1,properties1 = feasible(f_params, bvec_guess)\n",
    "print(\"bvec_guess ={}\".format(bvec_guess))\n",
    "print(\"K constraing: {}\".format(k_cnstr1))\n",
    "print(\"B constraint: {}\".format(b_cnstr1))\n",
    "print(\"C constraint: {}\".format(c_cnstr1))"
   ]
  },
  {
   "cell_type": "markdown",
   "metadata": {},
   "source": [
    "#### Question 1.b"
   ]
  },
  {
   "cell_type": "code",
   "execution_count": 6,
   "metadata": {},
   "outputs": [
    {
     "name": "stdout",
     "output_type": "stream",
     "text": [
      "bvec_guess = [ 0.     0.06  -0.001]\n",
      "K constraing: False\n",
      "B constraint: [ True  True]\n",
      "C constraint: [1. 1. 0.]\n"
     ]
    }
   ],
   "source": [
    "bvec_guess = np.array([0.0,0.06,-0.001])\n",
    "k_cnstr2, b_cnstr2, c_cnstr2, properties2 = feasible(f_params, bvec_guess)\n",
    "print(\"bvec_guess = {}\".format(bvec_guess))\n",
    "print(\"K constraing: {}\".format(k_cnstr2))\n",
    "print(\"B constraint: {}\".format(b_cnstr2))\n",
    "print(\"C constraint: {}\".format(c_cnstr2))\n"
   ]
  },
  {
   "cell_type": "markdown",
   "metadata": {},
   "source": [
    "#### Question 1.c"
   ]
  },
  {
   "cell_type": "code",
   "execution_count": 7,
   "metadata": {},
   "outputs": [
    {
     "name": "stdout",
     "output_type": "stream",
     "text": [
      "bvec_guess = [0.  0.1 0.1]\n",
      "K constraing: False\n",
      "B constraint: [ True  True]\n",
      "C constraint: [1. 1. 0.]\n"
     ]
    }
   ],
   "source": [
    "bvec_guess = np.array([0.0,0.1,0.1])\n",
    "k_cnstr3, b_cnstr3, c_cnstr3, properties3 = feasible(f_params, bvec_guess)\n",
    "print(\"bvec_guess = {}\".format(bvec_guess))\n",
    "print(\"K constraing: {}\".format(k_cnstr3))\n",
    "print(\"B constraint: {}\".format(b_cnstr3))\n",
    "print(\"C constraint: {}\".format(c_cnstr3))"
   ]
  },
  {
   "cell_type": "markdown",
   "metadata": {},
   "source": [
    "***\n",
    "\n",
    "### Question 2"
   ]
  },
  {
   "cell_type": "code",
   "execution_count": 8,
   "metadata": {},
   "outputs": [],
   "source": [
    "def euler_errors(bvec_guess, *args):\n",
    "    \n",
    "    b0, beta, sigma, labor, A, alpha, delta, SS_tol = args\n",
    "    \n",
    "    K = b0 + bvec_guess.sum()\n",
    "\n",
    "    L = labor.sum()\n",
    "    \n",
    "    #print(K,L)\n",
    "    \n",
    "    r = interest(alpha = alpha, A = A, labor = np.array([L]), capital = K, delta =delta)\n",
    "    \n",
    "    w = wage(alpha, A, capital = K, labor = np.array([L]) ) \n",
    "    #print(r,w)\n",
    "    \n",
    "    b = np.array([b0, *bvec_guess])\n",
    "    \n",
    "    b_tp1 = np.array([*bvec_guess, 0])\n",
    "    \n",
    "    c = (w * labor) + (1 + r) * b - b_tp1\n",
    "    \n",
    "    euler_err = np.zeros([2])\n",
    "\n",
    "    uprimes = crra(sigma, c)[1]\n",
    "\n",
    "    for i in range(0, len(b)-1):\n",
    "        euler_err[i] = beta * (1+r) * uprimes[i+1] - uprimes[i]\n",
    "\n",
    "    return(euler_err)"
   ]
  },
  {
   "cell_type": "code",
   "execution_count": 9,
   "metadata": {},
   "outputs": [],
   "source": [
    "def get_SS(bvec_guess, params, plot_SS = True):\n",
    "    \n",
    "    start_time = time.clock()\n",
    "    \n",
    "    b0, beta, sigma, laborSupply, A, alpha, delta, SS_tol = params\n",
    "    \n",
    "    ee_params = (b0, beta, sigma, laborSupply, A, alpha, delta, SS_tol)\n",
    "   \n",
    "    euler_root = opt.root(euler_errors, bvec_guess, args = ee_params)\n",
    "    #----------------------------------------------------------------#\n",
    "    \n",
    "    b_ss = np.array([*euler_root.x,0.0])\n",
    "    \n",
    "    K_ss = euler_root.x.sum()\n",
    "    \n",
    "    L_ss = np.array([laborSupply.sum()])\n",
    "    \n",
    "    Y_ss =  production(A, K_ss, alpha,L_ss) \n",
    "    \n",
    "    r_ss = interest(alpha, A, L_ss, K_ss, delta)\n",
    "    \n",
    "    w_ss = wage(alpha, A, capital = K_ss, labor = L_ss)\n",
    "    \n",
    "    b_ss_tp1 = np.array([*b_ss[1:], 0])\n",
    "    \n",
    "    c_ss = (w_ss * laborSupply) + (1 + r_ss) * b_ss - b_ss_tp1\n",
    "    \n",
    "    C_ss = c_ss.sum()\n",
    "    \n",
    "    EulErr_ss = euler_root.fun\n",
    "    \n",
    "    RCerr_ss = Y_ss - C_ss - (delta * K_ss)\n",
    "\n",
    "    ss_time = time.clock() - start_time\n",
    "    \n",
    "    ss_output = {\n",
    "        \"b_ss\": b_ss, \n",
    "        \"c_ss\": c_ss, \n",
    "        \"w_ss\": w_ss, \n",
    "        \"r_ss\": r_ss,\n",
    "        \"K_ss\": K_ss, \n",
    "        \"Y_ss\": Y_ss, \n",
    "        \"C_ss\": C_ss,\n",
    "        \"EulErr_ss\": EulErr_ss, \n",
    "        \"RCerr_ss\": RCerr_ss,\n",
    "        \"ss_time\": ss_time}\n",
    "    \n",
    "    if plot_SS:\n",
    "        plt.figure(figsize = (10,10))\n",
    "        plt.plot(ss_output['c_ss'], label = \"consumption\")\n",
    "        plt.plot(ss_output['b_ss'], label = \"savings\")\n",
    "        plt.legend()\n",
    "        plt.title(\"Consumption and Savings over 3 Periods\")\n",
    "        plt.xlabel(\"Period\")\n",
    "        plt.ylabel(\"Value\")\n",
    "    \n",
    "    return(ss_output)"
   ]
  },
  {
   "cell_type": "markdown",
   "metadata": {},
   "source": [
    "#### Question 2.a and 2.b"
   ]
  },
  {
   "cell_type": "code",
   "execution_count": 10,
   "metadata": {},
   "outputs": [
    {
     "data": {
      "text/plain": [
       "{'b_ss': array([0.01931253, 0.0584111 , 0.        ]),\n",
       " 'c_ss': array([0.20961468, 0.40225359, 0.04034493]),\n",
       " 'w_ss': array([0.20172466]),\n",
       " 'r_ss': array([2.43306234]),\n",
       " 'K_ss': 0.07772362575316386,\n",
       " 'Y_ss': array([0.68276038]),\n",
       " 'C_ss': 0.6522132027716135,\n",
       " 'EulErr_ss': array([ 1.39266376e-12, -2.62900812e-12]),\n",
       " 'RCerr_ss': array([-0.01931253]),\n",
       " 'ss_time': 0.0022299999999999542}"
      ]
     },
     "execution_count": 10,
     "metadata": {},
     "output_type": "execute_result"
    },
    {
     "data": {
      "image/png": "[encoded data removed]",
      "text/plain": [
       "<Figure size 720x720 with 1 Axes>"
      ]
     },
     "metadata": {},
     "output_type": "display_data"
    }
   ],
   "source": [
    "b0 = 0\n",
    "bvec_guess = np.array([.1,.1])\n",
    "ee_params = (b0, beta, sigma, laborSupply, A, alpha, delta, SS_tol)\n",
    "get_SS(bvec_guess, ee_params, plot_SS = True)\n"
   ]
  },
  {
   "cell_type": "markdown",
   "metadata": {},
   "source": [
    "***\n",
    "\n",
    "#### Question 2.c"
   ]
  },
  {
   "cell_type": "code",
   "execution_count": 11,
   "metadata": {},
   "outputs": [
    {
     "data": {
      "text/plain": [
       "{'b_ss': array([0.02817692, 0.07686545, 0.        ]),\n",
       " 'c_ss': array([0.22861594, 0.44601483, 0.04483044]),\n",
       " 'w_ss': array([0.2241522]),\n",
       " 'r_ss': array([1.88637651]),\n",
       " 'K_ss': 0.1050423702259807,\n",
       " 'Y_ss': array([0.75866897]),\n",
       " 'C_ss': 0.7194612092703347,\n",
       " 'EulErr_ss': array([-6.87805368e-12, -2.52953214e-12]),\n",
       " 'RCerr_ss': array([-0.02817692]),\n",
       " 'ss_time': 0.0013670000000001181}"
      ]
     },
     "execution_count": 11,
     "metadata": {},
     "output_type": "execute_result"
    },
    {
     "data": {
      "image/png": "[encoded data removed]",
      "text/plain": [
       "<Figure size 720x720 with 1 Axes>"
      ]
     },
     "metadata": {},
     "output_type": "display_data"
    }
   ],
   "source": [
    "b0 = 0\n",
    "bvec_guess = np.array([.1,.1])\n",
    "beta = .55\n",
    "ee_params = (b0, beta, sigma, laborSupply, A, alpha, delta, SS_tol)\n",
    "get_SS(bvec_guess, ee_params, plot_SS = True)"
   ]
  },
  {
   "cell_type": "markdown",
   "metadata": {},
   "source": [
    "### Question 3:"
   ]
  },
  {
   "cell_type": "code",
   "execution_count": 180,
   "metadata": {},
   "outputs": [],
   "source": [
    "def EulerError_2(b, *args):\n",
    "    #euler equation for difference between middle and old age\n",
    "    \n",
    "    w,r,laborSupply,s,t, sigma= args\n",
    "    \n",
    "    consumption1 = crra(sigma, c = (w[t] * laborSupply[s]) + (1 + r[t])*b[s] - b[s+1])[1]\n",
    "    \n",
    "    consumption2 = beta * (1 + r[t+1]) * crra(sigma, c = ((w[t] * laborSupply[s+1]) + (1 + r[t])*b[s+1]))[1]\n",
    "    \n",
    "    eulerErr = consumption1 - consumption2\n",
    "    \n",
    "    return(eulerErr)"
   ]
  },
  {
   "cell_type": "code",
   "execution_count": 187,
   "metadata": {},
   "outputs": [],
   "source": [
    "def tpi(bvec_guess, params):\n",
    "    \n",
    "    max_iterations = 10\n",
    "    \n",
    "    epsilon = 10e-9\n",
    "    \n",
    "    eps_p1 = epsilon + 1\n",
    "    \n",
    "    T, b0, beta, sigma, laborSupply, A, alpha, delta, SS_tol = params\n",
    "    \n",
    "    ss_params =(b0, beta, sigma, laborSupply, A, alpha, delta, SS_tol)\n",
    "    \n",
    "    steady_state = get_SS(bvec_guess, ss_params, plot_SS = False)\n",
    "    \n",
    "    b23_tpi = np.array([0,(.8 * bvec_guess[0]), (1.1 * bvec_guess[1])])\n",
    "    \n",
    "    s = 1\n",
    "    \n",
    "    #capital starts at an initial state and ends at the steady state:\n",
    "    K = np.linspace(b23_tpi.sum(),steady_state['K_ss'], T)\n",
    "    \n",
    "    r = alpha * A * ((laborSupply.sum() / K) ** (1 - alpha)) - delta\n",
    "    \n",
    "    w = (1-alpha) * A * (np.power((K/laborSupply.sum()), alpha))\n",
    "    \n",
    "    iter = 0\n",
    "          \n",
    "    while iter < max_iterations and epsilon < eps_p1:\n",
    "        \n",
    "        for t in range(T-2):\n",
    "            ee_params = (w,r,laborSupply,s,t, sigma)\n",
    "            opt.root(EulerError_2, b23_tpi, args = ee_params)\n",
    "\n",
    "        iter+=1\n",
    "        "
   ]
  },
  {
   "cell_type": "code",
   "execution_count": 188,
   "metadata": {},
   "outputs": [
    {
     "ename": "TypeError",
     "evalue": "fsolve: there is a mismatch between the input and output shape of the 'func' argument 'EulerError_2'.Shape should be (3,) but it is (1,).",
     "output_type": "error",
     "traceback": [
      "\u001b[0;31m---------------------------------------------------------------------------\u001b[0m",
      "\u001b[0;31mTypeError\u001b[0m                                 Traceback (most recent call last)",
      "\u001b[0;32m<ipython-input-188-d7211225f5b6>\u001b[0m in \u001b[0;36m<module>\u001b[0;34m()\u001b[0m\n\u001b[1;32m      2\u001b[0m \u001b[0mbvec_guess\u001b[0m \u001b[0;34m=\u001b[0m \u001b[0mnp\u001b[0m\u001b[0;34m.\u001b[0m\u001b[0marray\u001b[0m\u001b[0;34m(\u001b[0m\u001b[0;34m[\u001b[0m\u001b[0;36m.1\u001b[0m\u001b[0;34m,\u001b[0m \u001b[0;36m.1\u001b[0m\u001b[0;34m]\u001b[0m\u001b[0;34m)\u001b[0m\u001b[0;34m\u001b[0m\u001b[0m\n\u001b[1;32m      3\u001b[0m \u001b[0mtpi_params\u001b[0m \u001b[0;34m=\u001b[0m \u001b[0;34m(\u001b[0m\u001b[0mT\u001b[0m\u001b[0;34m,\u001b[0m \u001b[0mb0\u001b[0m\u001b[0;34m,\u001b[0m \u001b[0mbeta\u001b[0m\u001b[0;34m,\u001b[0m \u001b[0msigma\u001b[0m\u001b[0;34m,\u001b[0m \u001b[0mlaborSupply\u001b[0m\u001b[0;34m,\u001b[0m \u001b[0mA\u001b[0m\u001b[0;34m,\u001b[0m \u001b[0malpha\u001b[0m\u001b[0;34m,\u001b[0m \u001b[0mdelta\u001b[0m\u001b[0;34m,\u001b[0m \u001b[0mSS_tol\u001b[0m\u001b[0;34m)\u001b[0m\u001b[0;34m\u001b[0m\u001b[0m\n\u001b[0;32m----> 4\u001b[0;31m \u001b[0mtpi\u001b[0m\u001b[0;34m(\u001b[0m\u001b[0mbvec_guess\u001b[0m\u001b[0;34m,\u001b[0m \u001b[0mtpi_params\u001b[0m\u001b[0;34m)\u001b[0m\u001b[0;34m\u001b[0m\u001b[0m\n\u001b[0m",
      "\u001b[0;32m<ipython-input-187-0d7d3f01f7b6>\u001b[0m in \u001b[0;36mtpi\u001b[0;34m(bvec_guess, params)\u001b[0m\n\u001b[1;32m     30\u001b[0m         \u001b[0;32mfor\u001b[0m \u001b[0mt\u001b[0m \u001b[0;32min\u001b[0m \u001b[0mrange\u001b[0m\u001b[0;34m(\u001b[0m\u001b[0mT\u001b[0m\u001b[0;34m-\u001b[0m\u001b[0;36m2\u001b[0m\u001b[0;34m)\u001b[0m\u001b[0;34m:\u001b[0m\u001b[0;34m\u001b[0m\u001b[0m\n\u001b[1;32m     31\u001b[0m             \u001b[0mee_params\u001b[0m \u001b[0;34m=\u001b[0m \u001b[0;34m(\u001b[0m\u001b[0mw\u001b[0m\u001b[0;34m,\u001b[0m\u001b[0mr\u001b[0m\u001b[0;34m,\u001b[0m\u001b[0mlaborSupply\u001b[0m\u001b[0;34m,\u001b[0m\u001b[0ms\u001b[0m\u001b[0;34m,\u001b[0m\u001b[0mt\u001b[0m\u001b[0;34m,\u001b[0m \u001b[0msigma\u001b[0m\u001b[0;34m)\u001b[0m\u001b[0;34m\u001b[0m\u001b[0m\n\u001b[0;32m---> 32\u001b[0;31m             \u001b[0mopt\u001b[0m\u001b[0;34m.\u001b[0m\u001b[0mroot\u001b[0m\u001b[0;34m(\u001b[0m\u001b[0mEulerError_2\u001b[0m\u001b[0;34m,\u001b[0m \u001b[0mb23_tpi\u001b[0m\u001b[0;34m,\u001b[0m \u001b[0margs\u001b[0m \u001b[0;34m=\u001b[0m \u001b[0mee_params\u001b[0m\u001b[0;34m)\u001b[0m\u001b[0;34m\u001b[0m\u001b[0m\n\u001b[0m\u001b[1;32m     33\u001b[0m \u001b[0;34m\u001b[0m\u001b[0m\n\u001b[1;32m     34\u001b[0m         \u001b[0miter\u001b[0m\u001b[0;34m+=\u001b[0m\u001b[0;36m1\u001b[0m\u001b[0;34m\u001b[0m\u001b[0m\n",
      "\u001b[0;32m/Library/Frameworks/Python.framework/Versions/3.6/lib/python3.6/site-packages/scipy/optimize/_root.py\u001b[0m in \u001b[0;36mroot\u001b[0;34m(fun, x0, args, method, jac, tol, callback, options)\u001b[0m\n\u001b[1;32m    185\u001b[0m \u001b[0;34m\u001b[0m\u001b[0m\n\u001b[1;32m    186\u001b[0m     \u001b[0;32mif\u001b[0m \u001b[0mmeth\u001b[0m \u001b[0;34m==\u001b[0m \u001b[0;34m'hybr'\u001b[0m\u001b[0;34m:\u001b[0m\u001b[0;34m\u001b[0m\u001b[0m\n\u001b[0;32m--> 187\u001b[0;31m         \u001b[0msol\u001b[0m \u001b[0;34m=\u001b[0m \u001b[0m_root_hybr\u001b[0m\u001b[0;34m(\u001b[0m\u001b[0mfun\u001b[0m\u001b[0;34m,\u001b[0m \u001b[0mx0\u001b[0m\u001b[0;34m,\u001b[0m \u001b[0margs\u001b[0m\u001b[0;34m=\u001b[0m\u001b[0margs\u001b[0m\u001b[0;34m,\u001b[0m \u001b[0mjac\u001b[0m\u001b[0;34m=\u001b[0m\u001b[0mjac\u001b[0m\u001b[0;34m,\u001b[0m \u001b[0;34m**\u001b[0m\u001b[0moptions\u001b[0m\u001b[0;34m)\u001b[0m\u001b[0;34m\u001b[0m\u001b[0m\n\u001b[0m\u001b[1;32m    188\u001b[0m     \u001b[0;32melif\u001b[0m \u001b[0mmeth\u001b[0m \u001b[0;34m==\u001b[0m \u001b[0;34m'lm'\u001b[0m\u001b[0;34m:\u001b[0m\u001b[0;34m\u001b[0m\u001b[0m\n\u001b[1;32m    189\u001b[0m         \u001b[0msol\u001b[0m \u001b[0;34m=\u001b[0m \u001b[0m_root_leastsq\u001b[0m\u001b[0;34m(\u001b[0m\u001b[0mfun\u001b[0m\u001b[0;34m,\u001b[0m \u001b[0mx0\u001b[0m\u001b[0;34m,\u001b[0m \u001b[0margs\u001b[0m\u001b[0;34m=\u001b[0m\u001b[0margs\u001b[0m\u001b[0;34m,\u001b[0m \u001b[0mjac\u001b[0m\u001b[0;34m=\u001b[0m\u001b[0mjac\u001b[0m\u001b[0;34m,\u001b[0m \u001b[0;34m**\u001b[0m\u001b[0moptions\u001b[0m\u001b[0;34m)\u001b[0m\u001b[0;34m\u001b[0m\u001b[0m\n",
      "\u001b[0;32m/Library/Frameworks/Python.framework/Versions/3.6/lib/python3.6/site-packages/scipy/optimize/minpack.py\u001b[0m in \u001b[0;36m_root_hybr\u001b[0;34m(func, x0, args, jac, col_deriv, xtol, maxfev, band, eps, factor, diag, **unknown_options)\u001b[0m\n\u001b[1;32m    212\u001b[0m     \u001b[0;32mif\u001b[0m \u001b[0;32mnot\u001b[0m \u001b[0misinstance\u001b[0m\u001b[0;34m(\u001b[0m\u001b[0margs\u001b[0m\u001b[0;34m,\u001b[0m \u001b[0mtuple\u001b[0m\u001b[0;34m)\u001b[0m\u001b[0;34m:\u001b[0m\u001b[0;34m\u001b[0m\u001b[0m\n\u001b[1;32m    213\u001b[0m         \u001b[0margs\u001b[0m \u001b[0;34m=\u001b[0m \u001b[0;34m(\u001b[0m\u001b[0margs\u001b[0m\u001b[0;34m,\u001b[0m\u001b[0;34m)\u001b[0m\u001b[0;34m\u001b[0m\u001b[0m\n\u001b[0;32m--> 214\u001b[0;31m     \u001b[0mshape\u001b[0m\u001b[0;34m,\u001b[0m \u001b[0mdtype\u001b[0m \u001b[0;34m=\u001b[0m \u001b[0m_check_func\u001b[0m\u001b[0;34m(\u001b[0m\u001b[0;34m'fsolve'\u001b[0m\u001b[0;34m,\u001b[0m \u001b[0;34m'func'\u001b[0m\u001b[0;34m,\u001b[0m \u001b[0mfunc\u001b[0m\u001b[0;34m,\u001b[0m \u001b[0mx0\u001b[0m\u001b[0;34m,\u001b[0m \u001b[0margs\u001b[0m\u001b[0;34m,\u001b[0m \u001b[0mn\u001b[0m\u001b[0;34m,\u001b[0m \u001b[0;34m(\u001b[0m\u001b[0mn\u001b[0m\u001b[0;34m,\u001b[0m\u001b[0;34m)\u001b[0m\u001b[0;34m)\u001b[0m\u001b[0;34m\u001b[0m\u001b[0m\n\u001b[0m\u001b[1;32m    215\u001b[0m     \u001b[0;32mif\u001b[0m \u001b[0mepsfcn\u001b[0m \u001b[0;32mis\u001b[0m \u001b[0;32mNone\u001b[0m\u001b[0;34m:\u001b[0m\u001b[0;34m\u001b[0m\u001b[0m\n\u001b[1;32m    216\u001b[0m         \u001b[0mepsfcn\u001b[0m \u001b[0;34m=\u001b[0m \u001b[0mfinfo\u001b[0m\u001b[0;34m(\u001b[0m\u001b[0mdtype\u001b[0m\u001b[0;34m)\u001b[0m\u001b[0;34m.\u001b[0m\u001b[0meps\u001b[0m\u001b[0;34m\u001b[0m\u001b[0m\n",
      "\u001b[0;32m/Library/Frameworks/Python.framework/Versions/3.6/lib/python3.6/site-packages/scipy/optimize/minpack.py\u001b[0m in \u001b[0;36m_check_func\u001b[0;34m(checker, argname, thefunc, x0, args, numinputs, output_shape)\u001b[0m\n\u001b[1;32m     39\u001b[0m                 \u001b[0mmsg\u001b[0m \u001b[0;34m+=\u001b[0m \u001b[0;34m\".\"\u001b[0m\u001b[0;34m\u001b[0m\u001b[0m\n\u001b[1;32m     40\u001b[0m             \u001b[0mmsg\u001b[0m \u001b[0;34m+=\u001b[0m \u001b[0;34m'Shape should be %s but it is %s.'\u001b[0m \u001b[0;34m%\u001b[0m \u001b[0;34m(\u001b[0m\u001b[0moutput_shape\u001b[0m\u001b[0;34m,\u001b[0m \u001b[0mshape\u001b[0m\u001b[0;34m(\u001b[0m\u001b[0mres\u001b[0m\u001b[0;34m)\u001b[0m\u001b[0;34m)\u001b[0m\u001b[0;34m\u001b[0m\u001b[0m\n\u001b[0;32m---> 41\u001b[0;31m             \u001b[0;32mraise\u001b[0m \u001b[0mTypeError\u001b[0m\u001b[0;34m(\u001b[0m\u001b[0mmsg\u001b[0m\u001b[0;34m)\u001b[0m\u001b[0;34m\u001b[0m\u001b[0m\n\u001b[0m\u001b[1;32m     42\u001b[0m     \u001b[0;32mif\u001b[0m \u001b[0missubdtype\u001b[0m\u001b[0;34m(\u001b[0m\u001b[0mres\u001b[0m\u001b[0;34m.\u001b[0m\u001b[0mdtype\u001b[0m\u001b[0;34m,\u001b[0m \u001b[0minexact\u001b[0m\u001b[0;34m)\u001b[0m\u001b[0;34m:\u001b[0m\u001b[0;34m\u001b[0m\u001b[0m\n\u001b[1;32m     43\u001b[0m         \u001b[0mdt\u001b[0m \u001b[0;34m=\u001b[0m \u001b[0mres\u001b[0m\u001b[0;34m.\u001b[0m\u001b[0mdtype\u001b[0m\u001b[0;34m\u001b[0m\u001b[0m\n",
      "\u001b[0;31mTypeError\u001b[0m: fsolve: there is a mismatch between the input and output shape of the 'func' argument 'EulerError_2'.Shape should be (3,) but it is (1,)."
     ]
    }
   ],
   "source": [
    "T = 49\n",
    "bvec_guess = np.array([.1, .1])\n",
    "tpi_params = (T, b0, beta, sigma, laborSupply, A, alpha, delta, SS_tol)\n",
    "tpi(bvec_guess, tpi_params)"
   ]
  },
  {
   "cell_type": "code",
   "execution_count": null,
   "metadata": {},
   "outputs": [],
   "source": []
  },
  {
   "cell_type": "code",
   "execution_count": null,
   "metadata": {},
   "outputs": [],
   "source": []
  }
 ],
 "metadata": {
  "kernelspec": {
   "display_name": "Python 3",
   "language": "python",
   "name": "python3"
  },
  "language_info": {
   "codemirror_mode": {
    "name": "ipython",
    "version": 3
   },
   "file_extension": ".py",
   "mimetype": "text/x-python",
   "name": "python",
   "nbconvert_exporter": "python",
   "pygments_lexer": "ipython3",
   "version": "3.6.5"
  }
 },
 "nbformat": 4,
 "nbformat_minor": 2
}
