{
 "cells": [
  {
   "cell_type": "markdown",
   "metadata": {},
   "source": [
    "# Exercise 1:\n",
    "\n",
    "For the Brock and Mirman model, find the value of A in the policy function. Show that your value is correct.\n",
    "\n",
    "For this case find an algebraic solution for the policy function, kt+1 = Φ(kt,zt). Couple of good sources for hints are Stokey et al. (1989, exercise 2.2, p. 12) and Sargent (1987, exercise 1.1, p. 47)."
   ]
  }
 ],
 "metadata": {
  "kernelspec": {
   "display_name": "Python 3",
   "language": "python",
   "name": "python3"
  },
  "language_info": {
   "codemirror_mode": {
    "name": "ipython",
    "version": 3
   },
   "file_extension": ".py",
   "mimetype": "text/x-python",
   "name": "python",
   "nbconvert_exporter": "python",
   "pygments_lexer": "ipython3",
   "version": "3.6.5"
  }
 },
 "nbformat": 4,
 "nbformat_minor": 2
}
