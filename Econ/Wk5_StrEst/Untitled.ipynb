{
 "cells": [
  {
   "cell_type": "markdown",
   "metadata": {},
   "source": [
    "# Econ Problem Set #5\n",
    "\n",
    "***\n",
    "Tom Curran\n",
    "\n",
    "July 17, 2018\n",
    "\n",
    "OSM BootCamp 2018\n",
    "***"
   ]
  },
  {
   "cell_type": "code",
   "execution_count": 52,
   "metadata": {},
   "outputs": [],
   "source": [
    "import pandas as pd\n",
    "import numpy as np\n",
    "import matplotlib.pyplot as plt\n",
    "#import seaborn as sns\n",
    "%matplotlib inline"
   ]
  },
  {
   "cell_type": "markdown",
   "metadata": {},
   "source": [
    "1. Health claim amounts and the GB family of distributions. For this\n",
    "problem, you will use 10,619 health claims amounts from a fictitious sample of\n",
    "households. These data are in a single column of the text file clms.txt in the\n",
    "WK5 StrEst folder. Health claim amounts are reported in U.S. dollars. For this\n",
    "exercise, you will need to use the generalized beta family of distributions shown\n",
    "in the figure in Section 7 of your MLE Jupyter notebook."
   ]
  },
  {
   "cell_type": "markdown",
   "metadata": {},
   "source": [
    "a. Calculate and report the mean, median, maximum, minimum, and standard\n",
    "deviation of monthly health expenditures for these data. Plot two\n",
    "histograms of the data in which the y-axis gives the percent of observations\n",
    "in the particular bin of health expenditures and the x-axis gives the value\n",
    "of monthly health expenditures. Use percentage histograms in which the\n",
    "height of each bar is the percent of observations in that bin (see instructions\n",
    "in Jupyter notebook PythonVisualize.ipynb in Section 1.2). In\n",
    "the first histogram, use 1,000 bins to plot the frequency of all the data. In\n",
    "the second histogram, use 100 bins to plot the frequency of only monthly\n",
    "health expenditures less-than-or-equal-to $800 (xi ≤ 800). Adjust the frequencies\n",
    "of this second histogram to account for the observations that you\n",
    "have not displayed (xi > 800). That is, the heights of the histogram bars\n",
    "in the second histogram should not sum to 1 because you are only displaying\n",
    "a fraction of the data. Comparing the two histograms, why might you\n",
    "prefer the second one?"
   ]
  },
  {
   "cell_type": "code",
   "execution_count": 53,
   "metadata": {},
   "outputs": [],
   "source": [
    "claims = np.loadtxt(\"/Users/thomascurran/Documents/GitRepos/BootCamp2018/Econ/Wk5_StrEst/data/clms.txt\")"
   ]
  },
  {
   "cell_type": "code",
   "execution_count": 54,
   "metadata": {},
   "outputs": [
    {
     "data": {
      "text/html": [
       "<div>\n",
       "<style scoped>\n",
       "    .dataframe tbody tr th:only-of-type {\n",
       "        vertical-align: middle;\n",
       "    }\n",
       "\n",
       "    .dataframe tbody tr th {\n",
       "        vertical-align: top;\n",
       "    }\n",
       "\n",
       "    .dataframe thead th {\n",
       "        text-align: right;\n",
       "    }\n",
       "</style>\n",
       "<table border=\"1\" class=\"dataframe\">\n",
       "  <thead>\n",
       "    <tr style=\"text-align: right;\">\n",
       "      <th></th>\n",
       "      <th>Monthly Health Expenditures</th>\n",
       "    </tr>\n",
       "  </thead>\n",
       "  <tbody>\n",
       "    <tr>\n",
       "      <th>count</th>\n",
       "      <td>10619.000000</td>\n",
       "    </tr>\n",
       "    <tr>\n",
       "      <th>mean</th>\n",
       "      <td>720.277975</td>\n",
       "    </tr>\n",
       "    <tr>\n",
       "      <th>std</th>\n",
       "      <td>3972.850824</td>\n",
       "    </tr>\n",
       "    <tr>\n",
       "      <th>min</th>\n",
       "      <td>0.010000</td>\n",
       "    </tr>\n",
       "    <tr>\n",
       "      <th>25%</th>\n",
       "      <td>74.450000</td>\n",
       "    </tr>\n",
       "    <tr>\n",
       "      <th>50%</th>\n",
       "      <td>172.210000</td>\n",
       "    </tr>\n",
       "    <tr>\n",
       "      <th>75%</th>\n",
       "      <td>451.535000</td>\n",
       "    </tr>\n",
       "    <tr>\n",
       "      <th>max</th>\n",
       "      <td>227967.250000</td>\n",
       "    </tr>\n",
       "  </tbody>\n",
       "</table>\n",
       "</div>"
      ],
      "text/plain": [
       "       Monthly Health Expenditures\n",
       "count                 10619.000000\n",
       "mean                    720.277975\n",
       "std                    3972.850824\n",
       "min                       0.010000\n",
       "25%                      74.450000\n",
       "50%                     172.210000\n",
       "75%                     451.535000\n",
       "max                  227967.250000"
      ]
     },
     "execution_count": 54,
     "metadata": {},
     "output_type": "execute_result"
    }
   ],
   "source": [
    "pd.DataFrame(claims).rename(columns = {0:\"Monthly Health Expenditures\"}).describe()"
   ]
  },
  {
   "cell_type": "code",
   "execution_count": 55,
   "metadata": {},
   "outputs": [
    {
     "data": {
      "image/png": "[encoded data removed]",
      "text/plain": [
       "<Figure size 432x288 with 1 Axes>"
      ]
     },
     "metadata": {},
     "output_type": "display_data"
    }
   ],
   "source": [
    "count, bins, ignored = plt.hist(claims, density = True, edgecolor = 'k')"
   ]
  },
  {
   "cell_type": "code",
   "execution_count": null,
   "metadata": {},
   "outputs": [],
   "source": []
  },
  {
   "cell_type": "code",
   "execution_count": null,
   "metadata": {},
   "outputs": [],
   "source": []
  }
 ],
 "metadata": {
  "kernelspec": {
   "display_name": "Python 3",
   "language": "python",
   "name": "python3"
  },
  "language_info": {
   "codemirror_mode": {
    "name": "ipython",
    "version": 3
   },
   "file_extension": ".py",
   "mimetype": "text/x-python",
   "name": "python",
   "nbconvert_exporter": "python",
   "pygments_lexer": "ipython3",
   "version": "3.6.5"
  }
 },
 "nbformat": 4,
 "nbformat_minor": 2
}
